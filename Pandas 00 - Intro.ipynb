{
 "cells": [
  {
   "cell_type": "markdown",
   "metadata": {},
   "source": [
    "# Pandas 00 - Intro\n",
    "\n",
    "by Nova@Douban\n",
    "\n",
    "The video record of this session is here: https://zoom.us/recording/share/rDS-o_BWuPyBYIbswQ6bKJ5QGeFzY50BVFnBnw4t7pOwIumekTziMw?startTime=1545565951000\n",
    "\n",
    "---\n",
    "\n",
    "## 0.1 Course overview\n",
    "\n",
    "<img src=\"../image/outline.png\">\n",
    "\n",
    "----"
   ]
  },
  {
   "cell_type": "markdown",
   "metadata": {},
   "source": [
    "## 0.2 How to learn pandas?\n",
    "\n",
    "1. __Code, Code, and Code!__\n",
    "2. Read [pandas documentation](http://pandas.pydata.org/pandas-docs/stable/)\n",
    "3. Check [StackOverflow](http://stackoverflow.com)\n",
    "4. Check reference books\n",
    "    1. _Python for Data Analysis_\n",
    "    2. _Learning Pandas - Python Data Discovery and Analysis Made Easy_\n",
    "5. Check blogs\n",
    "    1. [pandas's Author Wes McKinney](http://wesmckinney.com/archives.html)\n",
    "    2. [Dataquest](https://www.dataquest.io/blog/)\n",
    "    3. [Introduction to Pandas by Ritchie Ng](https://www.ritchieng.com/tag_pandas/)"
   ]
  },
  {
   "cell_type": "markdown",
   "metadata": {},
   "source": [
    "---"
   ]
  },
  {
   "cell_type": "markdown",
   "metadata": {},
   "source": [
    "## 0.3 A Brief Overview of pandas\n",
    "    \n",
    "### 0.3.1 When to use pandas?\n",
    "\n",
    "1. If the dataset can fit in your local machine / single server, use pandas;\n",
    "2. If you want to speed up Python computing, use pandas;\n",
    "3. If the computing logic is too complicated to simple SQL queries, use pandas;\n",
    "4. If you want to convert data file format, use pandas;\n",
    "\n",
    "### 0.3.2 How to use pandas?\n",
    "\n",
    "1. If you use pandas, use it in pandas way;\n",
    "2. If you use pandas, use it as a framework.\n",
    "3. If you use pandas, track the code, not the data.\n",
    "\n",
    "\n",
    "### 0.3.3 Some basic principles of pandas\n",
    "\n",
    "1. There are multiple ways to finish a task in pandas.\n",
    "\n",
    "2. If there are multiple ways to write in pandas, we shall choose the most suitable way.\n",
    "\n",
    "3. If we use pandas, take it as a framework, not just a tool.\n",
    "\n",
    "---"
   ]
  },
  {
   "cell_type": "markdown",
   "metadata": {},
   "source": [
    "## 0.4 Examples\n",
    "\n",
    "### 0.4.1 Multiple ways to drop a column"
   ]
  },
  {
   "cell_type": "code",
   "execution_count": 1,
   "metadata": {
    "ExecuteTime": {
     "end_time": "2019-01-26T08:32:14.654893Z",
     "start_time": "2019-01-26T08:32:13.755566Z"
    }
   },
   "outputs": [
    {
     "data": {
      "text/html": [
       "<div>\n",
       "<style scoped>\n",
       "    .dataframe tbody tr th:only-of-type {\n",
       "        vertical-align: middle;\n",
       "    }\n",
       "\n",
       "    .dataframe tbody tr th {\n",
       "        vertical-align: top;\n",
       "    }\n",
       "\n",
       "    .dataframe thead th {\n",
       "        text-align: right;\n",
       "    }\n",
       "</style>\n",
       "<table border=\"1\" class=\"dataframe\">\n",
       "  <thead>\n",
       "    <tr style=\"text-align: right;\">\n",
       "      <th></th>\n",
       "      <th>Date</th>\n",
       "      <th>Open</th>\n",
       "      <th>High</th>\n",
       "      <th>Low</th>\n",
       "      <th>Close</th>\n",
       "      <th>Adj Close</th>\n",
       "      <th>Volume</th>\n",
       "    </tr>\n",
       "  </thead>\n",
       "  <tbody>\n",
       "    <tr>\n",
       "      <th>0</th>\n",
       "      <td>2018-11-23</td>\n",
       "      <td>6919.520020</td>\n",
       "      <td>6987.890137</td>\n",
       "      <td>6919.160156</td>\n",
       "      <td>6938.979980</td>\n",
       "      <td>6938.979980</td>\n",
       "      <td>958950000</td>\n",
       "    </tr>\n",
       "    <tr>\n",
       "      <th>1</th>\n",
       "      <td>2018-11-26</td>\n",
       "      <td>7026.500000</td>\n",
       "      <td>7083.930176</td>\n",
       "      <td>7003.120117</td>\n",
       "      <td>7081.850098</td>\n",
       "      <td>7081.850098</td>\n",
       "      <td>2011180000</td>\n",
       "    </tr>\n",
       "    <tr>\n",
       "      <th>2</th>\n",
       "      <td>2018-11-27</td>\n",
       "      <td>7041.229980</td>\n",
       "      <td>7105.140137</td>\n",
       "      <td>7014.359863</td>\n",
       "      <td>7082.700195</td>\n",
       "      <td>7082.700195</td>\n",
       "      <td>2067360000</td>\n",
       "    </tr>\n",
       "    <tr>\n",
       "      <th>3</th>\n",
       "      <td>2018-11-28</td>\n",
       "      <td>7135.080078</td>\n",
       "      <td>7292.709961</td>\n",
       "      <td>7090.979980</td>\n",
       "      <td>7291.589844</td>\n",
       "      <td>7291.589844</td>\n",
       "      <td>2390260000</td>\n",
       "    </tr>\n",
       "    <tr>\n",
       "      <th>4</th>\n",
       "      <td>2018-11-29</td>\n",
       "      <td>7267.370117</td>\n",
       "      <td>7319.959961</td>\n",
       "      <td>7217.689941</td>\n",
       "      <td>7273.080078</td>\n",
       "      <td>7273.080078</td>\n",
       "      <td>1983460000</td>\n",
       "    </tr>\n",
       "  </tbody>\n",
       "</table>\n",
       "</div>"
      ],
      "text/plain": [
       "         Date         Open         High          Low        Close  \\\n",
       "0  2018-11-23  6919.520020  6987.890137  6919.160156  6938.979980   \n",
       "1  2018-11-26  7026.500000  7083.930176  7003.120117  7081.850098   \n",
       "2  2018-11-27  7041.229980  7105.140137  7014.359863  7082.700195   \n",
       "3  2018-11-28  7135.080078  7292.709961  7090.979980  7291.589844   \n",
       "4  2018-11-29  7267.370117  7319.959961  7217.689941  7273.080078   \n",
       "\n",
       "     Adj Close      Volume  \n",
       "0  6938.979980   958950000  \n",
       "1  7081.850098  2011180000  \n",
       "2  7082.700195  2067360000  \n",
       "3  7291.589844  2390260000  \n",
       "4  7273.080078  1983460000  "
      ]
     },
     "execution_count": 1,
     "metadata": {},
     "output_type": "execute_result"
    }
   ],
   "source": [
    "# Download Nasdaq dataset: https://finance.yahoo.com/quote/%5EIXIC/history?p=%5EIXIC\n",
    "\n",
    "import pandas as pd\n",
    "\n",
    "in_file = '../data/nasdaq.csv'\n",
    "df = pd.read_csv(in_file, engine='c')\n",
    "df.head()\n",
    "# df.describe()"
   ]
  },
  {
   "cell_type": "code",
   "execution_count": 2,
   "metadata": {
    "ExecuteTime": {
     "end_time": "2019-01-26T08:32:14.667953Z",
     "start_time": "2019-01-26T08:32:14.658978Z"
    }
   },
   "outputs": [],
   "source": [
    "def drop_col_1(df, col):\n",
    "    '''\n",
    "    using drop\n",
    "    '''\n",
    "    df1 = df.copy()\n",
    "    df1.drop(col, axis=1, inplace=True)\n",
    "    return df1\n",
    "\n",
    "def drop_col_2(df, col):\n",
    "    '''\n",
    "    using del\n",
    "    '''\n",
    "    df2 = df.copy()\n",
    "    del(df2[col])\n",
    "    return df2\n",
    "\n",
    "def drop_col_3(df, col):\n",
    "    '''\n",
    "    using boolean selection\n",
    "    '''\n",
    "    df3 = df.copy()\n",
    "    \n",
    "    cols = list(df3.columns)\n",
    "    cols.remove(col)\n",
    "    \n",
    "    df3 = df3[cols]\n",
    "    return df3"
   ]
  },
  {
   "cell_type": "markdown",
   "metadata": {},
   "source": [
    "## 0.4.2 Choose the most suitable way from multiple ways\n",
    "\n",
    "We can use different profiling tools to benchmark the performence of different ways:\n",
    "\n",
    "1. %timeit for speed\n",
    "2. %memit for memory consumption"
   ]
  },
  {
   "cell_type": "code",
   "execution_count": 3,
   "metadata": {
    "ExecuteTime": {
     "end_time": "2019-01-26T08:32:39.807971Z",
     "start_time": "2019-01-26T08:32:14.672425Z"
    }
   },
   "outputs": [
    {
     "name": "stdout",
     "output_type": "stream",
     "text": [
      "1.08 ms ± 97.6 µs per loop (mean ± std. dev. of 7 runs, 1000 loops each)\n",
      "510 µs ± 22.3 µs per loop (mean ± std. dev. of 7 runs, 1000 loops each)\n",
      "1 ms ± 124 µs per loop (mean ± std. dev. of 7 runs, 1000 loops each)\n"
     ]
    }
   ],
   "source": [
    "%timeit r1 = drop_col_1(df, ['Open'])\n",
    "%timeit r2 = drop_col_2(df, 'Open')\n",
    "%timeit r3 = drop_col_3(df, 'Open')"
   ]
  },
  {
   "cell_type": "code",
   "execution_count": 4,
   "metadata": {
    "ExecuteTime": {
     "end_time": "2019-01-26T08:32:40.455867Z",
     "start_time": "2019-01-26T08:32:39.812272Z"
    }
   },
   "outputs": [
    {
     "name": "stdout",
     "output_type": "stream",
     "text": [
      "peak memory: 76.87 MiB, increment: 0.45 MiB\n",
      "peak memory: 76.88 MiB, increment: 0.00 MiB\n",
      "peak memory: 76.88 MiB, increment: 0.00 MiB\n"
     ]
    }
   ],
   "source": [
    "%load_ext memory_profiler\n",
    "%memit r1 = drop_col_1(df, ['Open'])\n",
    "%memit r2 = drop_col_2(df, 'Open')\n",
    "%memit r2 = drop_col_3(df, 'Open')"
   ]
  },
  {
   "cell_type": "markdown",
   "metadata": {},
   "source": [
    "__Conclusion__\n",
    "\n",
    "1.  `drop_col_2` used the least time among the three methods;\n",
    "2. Three methods consumed same memory;\n",
    "3. `drop_col_1` is the most pandas way, and `drop_col_3` is the least readable\n",
    "\n",
    "Therefore, we choose `drop_col_2` to finish this task"
   ]
  },
  {
   "cell_type": "markdown",
   "metadata": {},
   "source": [
    "## 0.4.3 Use pandas a framework\n",
    "\n",
    "Suppose we have a task as following:\n",
    "\n",
    "1. read data from a CSV file;\n",
    "2. calculate some results according to requirements;\n",
    "3. output results to a Json and an Excel file.\n",
    "\n",
    "These jobs can be easily handled by pandas."
   ]
  },
  {
   "cell_type": "code",
   "execution_count": 5,
   "metadata": {
    "ExecuteTime": {
     "end_time": "2019-01-26T08:32:40.475927Z",
     "start_time": "2019-01-26T08:32:40.462048Z"
    }
   },
   "outputs": [],
   "source": [
    "def process_nasdaq(in_csv, out_json, out_excel):\n",
    "    # read from CSV\n",
    "    df = pd.read_csv(in_csv, engine='c')\n",
    "\n",
    "    # Clean data\n",
    "    df.rename(columns={'Adj Close': 'Adj_close'}, inplace=True)\n",
    "\n",
    "    # Calcualtion\n",
    "    df['Max_diff'] = df['High'] - df['Low']\n",
    "    df['Open_close_diff'] = df['Close'] - df['Open']\n",
    "\n",
    "    # Output to Json\n",
    "    df.to_json(out_json, lines=True, orient='records')\n",
    "    \n",
    "    # Output to Excel\n",
    "    writer = pd.ExcelWriter(out_excel)\n",
    "    df.to_excel(writer,'Sheet1')\n",
    "    writer.save()"
   ]
  },
  {
   "cell_type": "code",
   "execution_count": 6,
   "metadata": {
    "ExecuteTime": {
     "end_time": "2019-01-26T08:32:40.815973Z",
     "start_time": "2019-01-26T08:32:40.479655Z"
    }
   },
   "outputs": [],
   "source": [
    "in_csv = '../data/nasdaq.csv'\n",
    "out_json = '../data/nasdaq.json'\n",
    "out_excel = '../data/nasdaq.xlsx'\n",
    "process_nasdaq(in_csv, out_json, out_excel)"
   ]
  },
  {
   "cell_type": "markdown",
   "metadata": {},
   "source": [
    "---\n",
    "\n",
    "To the rest sessions (outlines and video records), please scan the QR code below to pay.\n",
    "\n",
    "1. The price is 799 RMB.\n",
    "2. Please leave your email address in the __payment comment__, so I will send you the links of the rest sessions.\n",
    "\n",
    "\n",
    "<img src=\"../image/alipay.jpg\">"
   ]
  }
 ],
 "metadata": {
  "kernelspec": {
   "display_name": "Python 3",
   "language": "python",
   "name": "python3"
  },
  "language_info": {
   "codemirror_mode": {
    "name": "ipython",
    "version": 3
   },
   "file_extension": ".py",
   "mimetype": "text/x-python",
   "name": "python",
   "nbconvert_exporter": "python",
   "pygments_lexer": "ipython3",
   "version": "3.7.2"
  },
  "toc": {
   "base_numbering": 1,
   "nav_menu": {},
   "number_sections": false,
   "sideBar": true,
   "skip_h1_title": false,
   "title_cell": "Table of Contents",
   "title_sidebar": "Contents",
   "toc_cell": false,
   "toc_position": {},
   "toc_section_display": true,
   "toc_window_display": false
  }
 },
 "nbformat": 4,
 "nbformat_minor": 2
}
