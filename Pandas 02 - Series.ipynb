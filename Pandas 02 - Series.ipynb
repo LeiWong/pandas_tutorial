{
 "cells": [
  {
   "cell_type": "markdown",
   "metadata": {},
   "source": [
    "# Pandas 02 - Series\n",
    "\n",
    "by Nova@Douban\n",
    "\n",
    "The video record of this session is here: https://zoom.us/recording/share/hMxWmW7CRemL7wT8495JdIDXFCiyU6TAkMO4fL7J9GOwIumekTziMw?startTime=1546170816000\n",
    "\n",
    "---\n",
    "\n",
    "## 2.1 The Series object\n",
    "\n",
    "### 2.1.1 Concept\n",
    "\n",
    "pandas Series:\n",
    "\n",
    "1. represents a one-dimensional labeled indexed array;\n",
    "\n",
    "2. deviates from NumPy arrays by adding an index.\n",
    "\n",
    "### 2.1.2 Examples of pandas Series"
   ]
  },
  {
   "cell_type": "code",
   "execution_count": 1,
   "metadata": {
    "ExecuteTime": {
     "end_time": "2018-12-31T01:54:56.702203Z",
     "start_time": "2018-12-31T01:54:56.063833Z"
    }
   },
   "outputs": [
    {
     "data": {
      "text/plain": [
       "array([ 0.46676643, -0.15545763,  0.44000794,  1.88418346,  1.35743695,\n",
       "       -0.92247118])"
      ]
     },
     "execution_count": 1,
     "metadata": {},
     "output_type": "execute_result"
    }
   ],
   "source": [
    "import numpy as np\n",
    "import pandas as pd\n",
    "\n",
    "aray = np.random.randn(6)\n",
    "aray"
   ]
  },
  {
   "cell_type": "code",
   "execution_count": 2,
   "metadata": {
    "ExecuteTime": {
     "end_time": "2018-12-31T01:54:56.759244Z",
     "start_time": "2018-12-31T01:54:56.707515Z"
    }
   },
   "outputs": [
    {
     "data": {
      "text/plain": [
       "m    0.466766\n",
       "a   -0.155458\n",
       "f    0.440008\n",
       "9    1.884183\n",
       "h    1.357437\n",
       "l   -0.922471\n",
       "dtype: float64"
      ]
     },
     "execution_count": 2,
     "metadata": {},
     "output_type": "execute_result"
    }
   ],
   "source": [
    "srs = pd.Series(aray, index = ['m', 'a', 'f', '9', 'h', 'l'])\n",
    "srs"
   ]
  },
  {
   "cell_type": "code",
   "execution_count": 3,
   "metadata": {
    "ExecuteTime": {
     "end_time": "2018-12-31T01:54:56.784106Z",
     "start_time": "2018-12-31T01:54:56.765979Z"
    }
   },
   "outputs": [
    {
     "name": "stdout",
     "output_type": "stream",
     "text": [
      "[ 0.46676643 -0.15545763  0.44000794  1.88418346  1.35743695 -0.92247118]\n",
      "Index(['m', 'a', 'f', '9', 'h', 'l'], dtype='object')\n"
     ]
    }
   ],
   "source": [
    "print(srs.values)\n",
    "print(srs.index)"
   ]
  },
  {
   "cell_type": "markdown",
   "metadata": {},
   "source": [
    "---\n",
    "\n",
    "\n",
    "## 2.2 Creating Series\n",
    "\n",
    "### 2.2.1 Creating from other data structures\n",
    "\n",
    "A Series can be created and initialized by passing \n",
    "\n",
    "1. a scalar value, \n",
    "2. a NumPy ndarray,\n",
    "3. a Python list, \n",
    "4. a Python Dict,\n",
    "\n",
    "### 2.2.2 Examples of creating Series"
   ]
  },
  {
   "cell_type": "code",
   "execution_count": 4,
   "metadata": {
    "ExecuteTime": {
     "end_time": "2018-12-31T01:54:56.797762Z",
     "start_time": "2018-12-31T01:54:56.786810Z"
    }
   },
   "outputs": [
    {
     "data": {
      "text/plain": [
       " 1.278977    a\n",
       "-1.642189    a\n",
       " 0.300328    a\n",
       " 1.407208    a\n",
       " 1.018008    a\n",
       " 0.101313    a\n",
       "dtype: object"
      ]
     },
     "execution_count": 4,
     "metadata": {},
     "output_type": "execute_result"
    }
   ],
   "source": [
    "# from a scaler value\n",
    "ind = np.random.randn(6)\n",
    "pd.Series('a', index=ind)"
   ]
  },
  {
   "cell_type": "code",
   "execution_count": 5,
   "metadata": {
    "ExecuteTime": {
     "end_time": "2018-12-31T01:54:56.828669Z",
     "start_time": "2018-12-31T01:54:56.807395Z"
    }
   },
   "outputs": [
    {
     "data": {
      "text/plain": [
       "0   -1.180448\n",
       "1    0.274229\n",
       "2   -1.972792\n",
       "3   -0.108837\n",
       "4   -0.255784\n",
       "5    1.419131\n",
       "dtype: float64"
      ]
     },
     "execution_count": 5,
     "metadata": {},
     "output_type": "execute_result"
    }
   ],
   "source": [
    "# from a numpy ndarray\n",
    "aray = np.random.randn(6)\n",
    "pd.Series(aray)"
   ]
  },
  {
   "cell_type": "code",
   "execution_count": 6,
   "metadata": {
    "ExecuteTime": {
     "end_time": "2018-12-31T01:54:56.844589Z",
     "start_time": "2018-12-31T01:54:56.835249Z"
    }
   },
   "outputs": [
    {
     "data": {
      "text/plain": [
       "0     0\n",
       "1     1\n",
       "2     3\n",
       "3    89\n",
       "dtype: int64"
      ]
     },
     "execution_count": 6,
     "metadata": {},
     "output_type": "execute_result"
    }
   ],
   "source": [
    "# from a list\n",
    "lst = [0, 1, 3, 89]\n",
    "pd.Series(lst)"
   ]
  },
  {
   "cell_type": "code",
   "execution_count": 7,
   "metadata": {
    "ExecuteTime": {
     "end_time": "2018-12-31T01:54:56.859083Z",
     "start_time": "2018-12-31T01:54:56.848838Z"
    }
   },
   "outputs": [
    {
     "data": {
      "text/plain": [
       "a    9.1\n",
       "i    0.0\n",
       "dtype: float64"
      ]
     },
     "execution_count": 7,
     "metadata": {},
     "output_type": "execute_result"
    }
   ],
   "source": [
    "# from a dict\n",
    "dic = {'a': 9.1, 'i': 0}\n",
    "pd.Series(dic)"
   ]
  },
  {
   "cell_type": "markdown",
   "metadata": {},
   "source": [
    "---\n",
    "\n",
    "### 2.2.3 Index and values of Series\n",
    "\n",
    "1. By default, the Series object will construct an index automatically using integer values.\n",
    "\n",
    "\n",
    "2. To specify the index, use the index parameter of the constructor.\n",
    "\n",
    "\n",
    "3. A Series created with scaler value allows you to apply an operation and a single value across all elements of a Series.\n",
    "\n",
    "### 2.2.4 Examples of index and values of Series"
   ]
  },
  {
   "cell_type": "code",
   "execution_count": 8,
   "metadata": {
    "ExecuteTime": {
     "end_time": "2018-12-31T01:54:56.889714Z",
     "start_time": "2018-12-31T01:54:56.862232Z"
    }
   },
   "outputs": [
    {
     "data": {
      "text/plain": [
       " 0.284722     0\n",
       "-0.761072     1\n",
       "-1.104793     3\n",
       " 0.730485    89\n",
       "dtype: int64"
      ]
     },
     "execution_count": 8,
     "metadata": {},
     "output_type": "execute_result"
    }
   ],
   "source": [
    "# Set the index when creating the Series\n",
    "srs = pd.Series(lst, index = np.random.randn(4))\n",
    "srs"
   ]
  },
  {
   "cell_type": "code",
   "execution_count": 9,
   "metadata": {
    "ExecuteTime": {
     "end_time": "2018-12-31T01:54:56.916903Z",
     "start_time": "2018-12-31T01:54:56.897158Z"
    }
   },
   "outputs": [
    {
     "data": {
      "text/plain": [
       "array([ 0,  1,  3, 89])"
      ]
     },
     "execution_count": 9,
     "metadata": {},
     "output_type": "execute_result"
    }
   ],
   "source": [
    "# get the values of srs\n",
    "srs.values"
   ]
  },
  {
   "cell_type": "code",
   "execution_count": 10,
   "metadata": {
    "ExecuteTime": {
     "end_time": "2018-12-31T01:54:56.946243Z",
     "start_time": "2018-12-31T01:54:56.921324Z"
    }
   },
   "outputs": [
    {
     "name": "stdout",
     "output_type": "stream",
     "text": [
      " 0.284722    5\n",
      "-0.761072    5\n",
      "-1.104793    5\n",
      " 0.730485    5\n",
      "dtype: int64\n",
      "\n",
      " 0.284722      0\n",
      "-0.761072      5\n",
      "-1.104793     15\n",
      " 0.730485    445\n",
      "dtype: int64\n",
      "\n",
      " 0.284722      0\n",
      "-0.761072      5\n",
      "-1.104793     15\n",
      " 0.730485    445\n",
      "dtype: int64\n"
     ]
    }
   ],
   "source": [
    "# A Series created from a scaler value is useful\n",
    "scaler = pd.Series(5, index=srs.index)\n",
    "print(scaler)\n",
    "print()\n",
    "print(srs * scaler)\n",
    "print()\n",
    "print(srs * 5)"
   ]
  },
  {
   "cell_type": "markdown",
   "metadata": {},
   "source": [
    "---\n",
    "\n",
    "## 2.3 Accessing Series\n",
    "\n",
    "1. `pd.Series.size()`: return the number of elements in the underlying data;\n",
    "2. `pd.Series.shape`: return a tuple of the shape of the underlying data;\n",
    "3. `pd.Series.unique()`: return unique values of Series object;\n",
    "4. `pd.Series.count()`: return number of non-NA/null observations in the Series;\n",
    "5. `pd.Series.head()`: return the first `n` rows;\n",
    "6. `pd.Series.tail()`: return the last `n` rows;\n",
    "7. `pd.Series.take()`: return the elements in the given *positional* indices along an axis;"
   ]
  },
  {
   "cell_type": "code",
   "execution_count": 11,
   "metadata": {
    "ExecuteTime": {
     "end_time": "2018-12-31T01:54:56.962751Z",
     "start_time": "2018-12-31T01:54:56.951383Z"
    }
   },
   "outputs": [
    {
     "data": {
      "text/plain": [
       "4"
      ]
     },
     "execution_count": 11,
     "metadata": {},
     "output_type": "execute_result"
    }
   ],
   "source": [
    "srs.size"
   ]
  },
  {
   "cell_type": "code",
   "execution_count": 12,
   "metadata": {
    "ExecuteTime": {
     "end_time": "2018-12-31T01:54:56.988077Z",
     "start_time": "2018-12-31T01:54:56.967448Z"
    }
   },
   "outputs": [
    {
     "data": {
      "text/plain": [
       "(4,)"
      ]
     },
     "execution_count": 12,
     "metadata": {},
     "output_type": "execute_result"
    }
   ],
   "source": [
    "srs.shape"
   ]
  },
  {
   "cell_type": "code",
   "execution_count": 13,
   "metadata": {
    "ExecuteTime": {
     "end_time": "2018-12-31T01:54:57.025706Z",
     "start_time": "2018-12-31T01:54:56.995758Z"
    }
   },
   "outputs": [
    {
     "data": {
      "text/plain": [
       "array([ 0,  1,  3, 89])"
      ]
     },
     "execution_count": 13,
     "metadata": {},
     "output_type": "execute_result"
    }
   ],
   "source": [
    "srs.unique()"
   ]
  },
  {
   "cell_type": "code",
   "execution_count": 14,
   "metadata": {
    "ExecuteTime": {
     "end_time": "2018-12-31T01:54:57.053575Z",
     "start_time": "2018-12-31T01:54:57.030985Z"
    }
   },
   "outputs": [
    {
     "data": {
      "text/plain": [
       "4"
      ]
     },
     "execution_count": 14,
     "metadata": {},
     "output_type": "execute_result"
    }
   ],
   "source": [
    "srs.count()"
   ]
  },
  {
   "cell_type": "code",
   "execution_count": 15,
   "metadata": {
    "ExecuteTime": {
     "end_time": "2018-12-31T01:54:57.074672Z",
     "start_time": "2018-12-31T01:54:57.061985Z"
    }
   },
   "outputs": [
    {
     "data": {
      "text/plain": [
       " 0.284722    0\n",
       "-0.761072    1\n",
       "dtype: int64"
      ]
     },
     "execution_count": 15,
     "metadata": {},
     "output_type": "execute_result"
    }
   ],
   "source": [
    "srs.head(2)"
   ]
  },
  {
   "cell_type": "code",
   "execution_count": 16,
   "metadata": {
    "ExecuteTime": {
     "end_time": "2018-12-31T01:54:57.107392Z",
     "start_time": "2018-12-31T01:54:57.085274Z"
    }
   },
   "outputs": [
    {
     "data": {
      "text/plain": [
       "-1.104793     3\n",
       " 0.730485    89\n",
       "dtype: int64"
      ]
     },
     "execution_count": 16,
     "metadata": {},
     "output_type": "execute_result"
    }
   ],
   "source": [
    "srs.tail(2)"
   ]
  },
  {
   "cell_type": "code",
   "execution_count": 17,
   "metadata": {
    "ExecuteTime": {
     "end_time": "2018-12-31T01:54:57.129753Z",
     "start_time": "2018-12-31T01:54:57.117178Z"
    }
   },
   "outputs": [
    {
     "data": {
      "text/plain": [
       " 0.284722    0\n",
       "-0.761072    1\n",
       "dtype: int64"
      ]
     },
     "execution_count": 17,
     "metadata": {},
     "output_type": "execute_result"
    }
   ],
   "source": [
    "srs.take([0, 1], axis=0)"
   ]
  },
  {
   "cell_type": "markdown",
   "metadata": {},
   "source": [
    "---\n",
    "\n",
    "## 2.4 More about alignment\n",
    "\n",
    "### 2.4.1 Always start with alignment\n",
    "\n",
    "The computing between multiple Series always start with alignment."
   ]
  },
  {
   "cell_type": "code",
   "execution_count": 18,
   "metadata": {
    "ExecuteTime": {
     "end_time": "2018-12-31T01:55:13.395623Z",
     "start_time": "2018-12-31T01:54:57.135720Z"
    }
   },
   "outputs": [
    {
     "name": "stdout",
     "output_type": "stream",
     "text": [
      "97.1 µs ± 16.2 µs per loop (mean ± std. dev. of 7 runs, 10000 loops each)\n",
      "102 µs ± 27.4 µs per loop (mean ± std. dev. of 7 runs, 10000 loops each)\n"
     ]
    }
   ],
   "source": [
    "# A Series * scaler values VS. vectorization\n",
    "scaler = pd.Series(5, index=srs.index)\n",
    "%timeit srs * scaler\n",
    "%timeit srs * 5"
   ]
  },
  {
   "cell_type": "markdown",
   "metadata": {},
   "source": [
    "---\n",
    "\n",
    "### 2.4.2 Repeated labels in index\n",
    "\n",
    "If there are repeated labels in the index, the result will be surprising.\n",
    "\n",
    "    Cartesian product: an index having duplicate labels will result in a number of index labels equivalent to the products of the number of the labels in each Series."
   ]
  },
  {
   "cell_type": "code",
   "execution_count": 19,
   "metadata": {
    "ExecuteTime": {
     "end_time": "2018-12-31T01:55:13.423295Z",
     "start_time": "2018-12-31T01:55:13.401712Z"
    }
   },
   "outputs": [
    {
     "name": "stdout",
     "output_type": "stream",
     "text": [
      "1    1.026273\n",
      "2    1.339302\n",
      "2    1.551478\n",
      "2    0.327764\n",
      "2    0.539940\n",
      "3    3.797827\n",
      "dtype: float64\n",
      "\n",
      "1    0.007499\n",
      "2    0.788075\n",
      "2   -0.223463\n",
      "3    2.548161\n",
      "dtype: float64\n",
      "\n",
      "{1: 0.007498765264798723, 2: -0.22346329852722358, 3: 2.548161210676347}\n"
     ]
    }
   ],
   "source": [
    "ind = [1, 2, 2, 3]\n",
    "s1 = pd.Series(np.random.randn(4), index=ind)\n",
    "s2 = pd.Series(np.random.randn(4), index=reversed(ind))\n",
    "print(s1+s2)\n",
    "print()\n",
    "print(s1)\n",
    "print()\n",
    "print(s1.to_dict())"
   ]
  },
  {
   "cell_type": "markdown",
   "metadata": {},
   "source": [
    "---\n",
    "\n",
    "## 2.5 Boolean selection\n",
    "\n",
    "\n",
    "1. Boolean selection produces a new Series with a copy of index and value for the selected rows.\n",
    "\n",
    "\n",
    "2. With the `[]` operator, Boolean selection can get the values of the original Series.\n",
    "\n",
    "\n",
    "3. Chain selection does not work with Series, instead, put parentheses around logical conditions and use '|' and '&'."
   ]
  },
  {
   "cell_type": "code",
   "execution_count": 20,
   "metadata": {
    "ExecuteTime": {
     "end_time": "2018-12-31T01:55:13.448878Z",
     "start_time": "2018-12-31T01:55:13.432424Z"
    }
   },
   "outputs": [
    {
     "name": "stdout",
     "output_type": "stream",
     "text": [
      "1     True\n",
      "2     True\n",
      "2    False\n",
      "3     True\n",
      "dtype: bool\n",
      "<class 'pandas.core.series.Series'>\n"
     ]
    }
   ],
   "source": [
    "ss = (s1 > 0)\n",
    "print(ss)\n",
    "print(type(ss))"
   ]
  },
  {
   "cell_type": "code",
   "execution_count": 21,
   "metadata": {
    "ExecuteTime": {
     "end_time": "2018-12-31T01:55:13.466712Z",
     "start_time": "2018-12-31T01:55:13.456102Z"
    }
   },
   "outputs": [
    {
     "data": {
      "text/plain": [
       "1    0.007499\n",
       "2    0.788075\n",
       "3    2.548161\n",
       "dtype: float64"
      ]
     },
     "execution_count": 21,
     "metadata": {},
     "output_type": "execute_result"
    }
   ],
   "source": [
    "s1[(s1 > 0)]"
   ]
  },
  {
   "cell_type": "code",
   "execution_count": 22,
   "metadata": {
    "ExecuteTime": {
     "end_time": "2018-12-31T01:55:13.484357Z",
     "start_time": "2018-12-31T01:55:13.470986Z"
    }
   },
   "outputs": [
    {
     "data": {
      "text/plain": [
       "False"
      ]
     },
     "execution_count": 22,
     "metadata": {},
     "output_type": "execute_result"
    }
   ],
   "source": [
    "s1[(s1 > 0)]._is_view"
   ]
  },
  {
   "cell_type": "code",
   "execution_count": 23,
   "metadata": {
    "ExecuteTime": {
     "end_time": "2018-12-31T01:55:13.511880Z",
     "start_time": "2018-12-31T01:55:13.488409Z"
    }
   },
   "outputs": [
    {
     "data": {
      "text/plain": [
       "1    0.007499\n",
       "dtype: float64"
      ]
     },
     "execution_count": 23,
     "metadata": {},
     "output_type": "execute_result"
    }
   ],
   "source": [
    "# s1[(0.5 > s1 > 0)]\n",
    "\n",
    "s1[(0.5 > s1)&(s1 > 0)]"
   ]
  },
  {
   "cell_type": "code",
   "execution_count": 24,
   "metadata": {
    "ExecuteTime": {
     "end_time": "2018-12-31T01:55:13.532020Z",
     "start_time": "2018-12-31T01:55:13.517926Z"
    }
   },
   "outputs": [
    {
     "data": {
      "text/plain": [
       "1    0.007499\n",
       "2    0.788075\n",
       "3    2.548161\n",
       "dtype: float64"
      ]
     },
     "execution_count": 24,
     "metadata": {},
     "output_type": "execute_result"
    }
   ],
   "source": [
    "s1[(0.5 < s1)|(s1 > 0)]"
   ]
  },
  {
   "cell_type": "markdown",
   "metadata": {},
   "source": [
    "---\n",
    "\n",
    "## 2.6  Slicing a Series\n",
    "\n",
    "Slicing a Series is siilar to slicing a list, and the result is a view, instead of a copy.\n",
    "\n",
    "If the series has n elements, then negative values for the start and end of the slice represent elements n + start through and not including n + end."
   ]
  },
  {
   "cell_type": "code",
   "execution_count": 25,
   "metadata": {
    "ExecuteTime": {
     "end_time": "2018-12-31T01:55:13.546357Z",
     "start_time": "2018-12-31T01:55:13.535770Z"
    }
   },
   "outputs": [
    {
     "name": "stdout",
     "output_type": "stream",
     "text": [
      "1    0.007499\n",
      "2    0.788075\n",
      "2   -0.223463\n",
      "3    2.548161\n",
      "dtype: float64\n",
      "\n",
      "1    0.007499\n",
      "2    0.788075\n",
      "2   -0.223463\n",
      "3    2.548161\n",
      "dtype: float64\n"
     ]
    }
   ],
   "source": [
    "print(s1)\n",
    "print()\n",
    "s3 = s1[0:]\n",
    "print(s3)"
   ]
  },
  {
   "cell_type": "code",
   "execution_count": 26,
   "metadata": {
    "ExecuteTime": {
     "end_time": "2018-12-31T01:55:13.575589Z",
     "start_time": "2018-12-31T01:55:13.554323Z"
    }
   },
   "outputs": [
    {
     "name": "stdout",
     "output_type": "stream",
     "text": [
      "True\n",
      "\n",
      "False\n"
     ]
    }
   ],
   "source": [
    "print(s3._is_view)\n",
    "print()\n",
    "print(s3.copy()._is_view)"
   ]
  },
  {
   "cell_type": "code",
   "execution_count": 27,
   "metadata": {
    "ExecuteTime": {
     "end_time": "2018-12-31T01:55:13.595081Z",
     "start_time": "2018-12-31T01:55:13.580618Z"
    }
   },
   "outputs": [
    {
     "data": {
      "text/plain": [
       "3    2.548161\n",
       "dtype: float64"
      ]
     },
     "execution_count": 27,
     "metadata": {},
     "output_type": "execute_result"
    }
   ],
   "source": [
    "s3 = s1[-1:]\n",
    "s3"
   ]
  },
  {
   "cell_type": "code",
   "execution_count": 28,
   "metadata": {
    "ExecuteTime": {
     "end_time": "2018-12-31T01:55:13.614137Z",
     "start_time": "2018-12-31T01:55:13.604408Z"
    }
   },
   "outputs": [
    {
     "name": "stdout",
     "output_type": "stream",
     "text": [
      "1    0.007499\n",
      "2    0.788075\n",
      "2   -0.223463\n",
      "3    2.548161\n",
      "dtype: float64\n",
      "\n",
      "3    2.548161\n",
      "2   -0.223463\n",
      "2    0.788075\n",
      "1    0.007499\n",
      "dtype: float64\n"
     ]
    }
   ],
   "source": [
    "print(s1)\n",
    "print()\n",
    "print(s1[::-1])"
   ]
  },
  {
   "cell_type": "markdown",
   "metadata": {},
   "source": [
    "---\n",
    "\n",
    "## 2.7 Sorting and ranking\n",
    "\n",
    "Sorting Series can be based on indices of values, and pandas provides both solutions:\n",
    "\n",
    "`pd.Series.sort_index()`: sort a Series by row indexs, and returns a new, sorted object\n",
    "\n",
    "`pd.Series.sort_values()`: sort a Series by its values\n",
    "\n",
    "\n",
    "Please note: any missing values are sorted to the end of the Series by default"
   ]
  },
  {
   "cell_type": "code",
   "execution_count": 29,
   "metadata": {
    "ExecuteTime": {
     "end_time": "2018-12-31T01:55:13.647511Z",
     "start_time": "2018-12-31T01:55:13.619834Z"
    }
   },
   "outputs": [
    {
     "data": {
      "text/plain": [
       "1   -0.329720\n",
       "2    0.083856\n",
       "2    1.009812\n",
       "9    0.325275\n",
       "dtype: float64"
      ]
     },
     "execution_count": 29,
     "metadata": {},
     "output_type": "execute_result"
    }
   ],
   "source": [
    "ind = [9, 2, 2, 1]\n",
    "s1 = pd.Series(np.random.randn(4), index=ind)\n",
    "s1.sort_index()"
   ]
  },
  {
   "cell_type": "code",
   "execution_count": 30,
   "metadata": {
    "ExecuteTime": {
     "end_time": "2018-12-31T01:55:13.673645Z",
     "start_time": "2018-12-31T01:55:13.649936Z"
    }
   },
   "outputs": [
    {
     "data": {
      "text/plain": [
       "1   -0.329720\n",
       "2    0.083856\n",
       "9    0.325275\n",
       "2    1.009812\n",
       "dtype: float64"
      ]
     },
     "execution_count": 30,
     "metadata": {},
     "output_type": "execute_result"
    }
   ],
   "source": [
    "s1.sort_values()"
   ]
  },
  {
   "cell_type": "code",
   "execution_count": 31,
   "metadata": {
    "ExecuteTime": {
     "end_time": "2018-12-31T01:55:13.704324Z",
     "start_time": "2018-12-31T01:55:13.683345Z"
    }
   },
   "outputs": [
    {
     "data": {
      "text/plain": [
       "5    1.0\n",
       "2    2.0\n",
       "4    2.0\n",
       "0    9.0\n",
       "1    NaN\n",
       "3    NaN\n",
       "dtype: float64"
      ]
     },
     "execution_count": 31,
     "metadata": {},
     "output_type": "execute_result"
    }
   ],
   "source": [
    "s3 = pd.Series([9, None, 2, None, 2, 1])\n",
    "s3.sort_values()"
   ]
  },
  {
   "cell_type": "code",
   "execution_count": 32,
   "metadata": {
    "ExecuteTime": {
     "end_time": "2018-12-31T01:55:13.720857Z",
     "start_time": "2018-12-31T01:55:13.711894Z"
    }
   },
   "outputs": [
    {
     "name": "stdout",
     "output_type": "stream",
     "text": [
      "0    9.0\n",
      "1    NaN\n",
      "2    2.0\n",
      "3    NaN\n",
      "4    2.0\n",
      "5    1.0\n",
      "dtype: float64\n",
      "\n",
      "0    4.0\n",
      "1    NaN\n",
      "2    2.5\n",
      "3    NaN\n",
      "4    2.5\n",
      "5    1.0\n",
      "dtype: float64\n"
     ]
    }
   ],
   "source": [
    "print(s3)\n",
    "print()\n",
    "print(s3.rank())"
   ]
  },
  {
   "cell_type": "markdown",
   "metadata": {},
   "source": [
    "---\n",
    "\n",
    "## 2.8 Copy VS view\n",
    "\n",
    "This warning often occurs when we write pandas functions:\n",
    "\n",
    "> /Library/Frameworks/Python.framework/Versions/3.6/lib/python3.6/ipykernel/__main__.py:1: SettingWithCopyWarning: \n",
    "A value is trying to be set on a copy of a slice from a DataFrame.\n",
    "Try using .loc[row_indexer,col_indexer] = value instead\n",
    "\n",
    "\n",
    "The fundamental cause of this warning is that we used chain indexing in pandas, which is a taboo. To solve this problem, we need clarity copy and view in pandas first.\n",
    "\n",
    "View: \n",
    "\n",
    "    1. can be regarded as a reference to the original DataFrame / Series;\n",
    "    2. the modofication on the view affects the original DataFrame / Series.\n",
    "\n",
    "\n",
    "Copy: \n",
    "\n",
    "    1. a new DataFrame / Series based on the original DataFrame / Series;\n",
    "    2. the modification doesn't affect the original DataFrame / Series.\n",
    "\n",
    "<img src=\"../image/view_copy_1.png\">\n",
    "\n",
    "---\n",
    "\n",
    "<img src=\"../image/view_copy_2.png\">\n",
    "\n",
    "\n",
    "---\n",
    "\n",
    "The chain indexing may introduce views and copies at the same time, so the original DataFrame might be affected without noticing. This is super dangerous!\n",
    "\n",
    "We can avoid chain indexing by using `pd.DataFrame.loc()` / `pd.DataFrame.iloc()`"
   ]
  },
  {
   "cell_type": "code",
   "execution_count": 33,
   "metadata": {
    "ExecuteTime": {
     "end_time": "2018-12-31T01:55:13.738121Z",
     "start_time": "2018-12-31T01:55:13.723858Z"
    }
   },
   "outputs": [
    {
     "data": {
      "text/plain": [
       "False"
      ]
     },
     "execution_count": 33,
     "metadata": {},
     "output_type": "execute_result"
    }
   ],
   "source": [
    "s3._is_view"
   ]
  },
  {
   "cell_type": "code",
   "execution_count": 34,
   "metadata": {
    "ExecuteTime": {
     "end_time": "2018-12-31T01:55:13.751490Z",
     "start_time": "2018-12-31T01:55:13.743247Z"
    }
   },
   "outputs": [
    {
     "data": {
      "text/plain": [
       "False"
      ]
     },
     "execution_count": 34,
     "metadata": {},
     "output_type": "execute_result"
    }
   ],
   "source": [
    "# Converting a view to a copy\n",
    "\n",
    "s4 = s3.copy()\n",
    "s4._is_view"
   ]
  },
  {
   "cell_type": "code",
   "execution_count": 35,
   "metadata": {
    "ExecuteTime": {
     "end_time": "2018-12-31T01:55:13.769675Z",
     "start_time": "2018-12-31T01:55:13.753811Z"
    }
   },
   "outputs": [
    {
     "data": {
      "text/plain": [
       "True"
      ]
     },
     "execution_count": 35,
     "metadata": {},
     "output_type": "execute_result"
    }
   ],
   "source": [
    "s5 = s4.view()\n",
    "s5._is_view"
   ]
  },
  {
   "cell_type": "markdown",
   "metadata": {},
   "source": [
    "## 2.9 Exercises\n",
    "\n",
    "1. For a detailed answer of chain indexing warning, please read [this great post](https://www.dataquest.io/blog/settingwithcopywarning/)\n",
    "\n",
    "2. Find the parameter settings of following pandas functions:\n",
    "\n",
    "`pd.Series.reindex()`\n",
    "\n",
    "`pd.Series.sort_values()`\n",
    "\n",
    "`pd.Series.sort_index()`\n",
    "\n",
    "`pd.Series.loc()`\n",
    "\n",
    "`pd.Series.iloc()`\n",
    "\n",
    "3. Check the result of the following functions to see if they return a copy or a view?\n",
    "\n",
    "`pd.Series.reindex()`\n",
    "\n",
    "`pd.Series.sort_values()`\n",
    "\n",
    "`pd.Series.sort_index()`\n",
    "\n",
    "`pd.Series.loc()`\n",
    "\n",
    "`pd.Series.iloc()`"
   ]
  },
  {
   "cell_type": "markdown",
   "metadata": {},
   "source": [
    "---\n",
    "\n",
    "To the rest sessions (outlines and video records), please scan the QR code below to pay.\n",
    "\n",
    "1. The price is 799 RMB.\n",
    "2. Please leave your email address in the __payment comment__, so I will send you the links of the rest sessions.\n",
    "\n",
    "\n",
    "<img src=\"../image/alipay.jpg\">"
   ]
  }
 ],
 "metadata": {
  "kernelspec": {
   "display_name": "Python 3",
   "language": "python",
   "name": "python3"
  },
  "language_info": {
   "codemirror_mode": {
    "name": "ipython",
    "version": 3
   },
   "file_extension": ".py",
   "mimetype": "text/x-python",
   "name": "python",
   "nbconvert_exporter": "python",
   "pygments_lexer": "ipython3",
   "version": "3.7.2"
  },
  "toc": {
   "base_numbering": "2",
   "nav_menu": {},
   "number_sections": false,
   "sideBar": true,
   "skip_h1_title": false,
   "title_cell": "Table of Contents",
   "title_sidebar": "Contents",
   "toc_cell": false,
   "toc_position": {
    "height": "calc(100% - 180px)",
    "left": "10px",
    "top": "150px",
    "width": "295.3333435058594px"
   },
   "toc_section_display": true,
   "toc_window_display": false
  }
 },
 "nbformat": 4,
 "nbformat_minor": 2
}
