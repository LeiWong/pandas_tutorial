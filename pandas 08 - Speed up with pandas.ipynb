{
 "cells": [
  {
   "cell_type": "markdown",
   "metadata": {},
   "source": [
    "# pandas 08 - Speed up with pandas\n",
    "\n",
    "by Nova@Douban\n",
    "\n",
    "The video record of this session is here: https://zoom.us/recording/share/1ZCrNvlQG3rchlnczSpwCdq89ZZR12SZ75a2QvcI19WwIumekTziMw\n",
    "\n",
    "---\n",
    "\n",
    "In this tutotial, we will share how to process big datasets with pandas. Here, the big datasets mean those datasets are too big for a single machine.\n",
    "\n",
    "## 8.1 Stream processing\n",
    "\n",
    "pandas is an efficient tool to process data, but when the dataset cannot be fit in memory, using pandas could be a little bit tricky. If the dataset is big enough to take all of the memorys, the pandas task will get stuck there.\n",
    "\n",
    "One way to deal this problem is to apply stream processing to pandas with `chunksize` parameter in  `pd.read_csv()`, `pd.read_table()`, `pd.read_json(lines=True)` \n",
    "\n",
    "---\n",
    "\n",
    "### 8.1.1 An example of stream processing"
   ]
  },
  {
   "cell_type": "code",
   "execution_count": 1,
   "metadata": {
    "ExecuteTime": {
     "end_time": "2019-01-20T12:51:33.558058Z",
     "start_time": "2019-01-20T12:51:33.546775Z"
    }
   },
   "outputs": [],
   "source": [
    "def preprocess_patent(in_f, out_f):\n",
    "    '''\n",
    "    normal read and write\n",
    "    '''\n",
    "    df = pd.read_table(in_f, sep='##')\n",
    "    df.columns = ['id0', 'id1', 'ref']\n",
    "    result = df[(df['ref'].str.contains('^[a-zA-Z]+')) & (df.ref['ref'].len() > 80)]\n",
    "    result.to_csv(out_f, index=False, header=False, mode='w')\n",
    "\n",
    "def preprocess_patent(in_f, out_f, size):\n",
    "    '''\n",
    "    read a chunk,\n",
    "    process a chunk,\n",
    "    write a chunk,\n",
    "    then repeat\n",
    "    '''\n",
    "    reader = pd.read_table(in_f, sep='##', chunksize=size)\n",
    "    for chunk in reader:\n",
    "        chunk.columns = ['id0', 'id1', 'ref']\n",
    "        result = chunk[(chunk['ref'].str.contains('^[a-zA-Z]+')) & (chunk['ref'].str.len() > 80)]\n",
    "        result.to_csv(out_f, index=False, header=False, mode='a')"
   ]
  },
  {
   "cell_type": "markdown",
   "metadata": {},
   "source": [
    "Some aspects are worth paying attetion to:\n",
    "\n",
    "1. The `chunksize` should not be too small. If it is too small, the IO cost will be high to overcome the benefit. For example, if we have a file with one million lines, we did a little experiment:\n",
    "\n",
    "| Chunksize | Memory (MiB) | Time (s) |\n",
    "|-----------|--------------|----------|\n",
    "| 100       | 142.13       | 36.9     |\n",
    "| 1,000     | 141.38       | 13.8     |\n",
    "| 10,000    | 141.38       | 12.1     |\n",
    "| 100,000   | 209.88       | 12.7     |\n",
    "| 200,000   | 312.15       | 12.5     |\n",
    "\n",
    "In our main task, we set `chunksize` as 200,000, and it used 211.22MiB memory to process the 10G+ dataset with 9min 54s.\n",
    "\n",
    "2. the `pandas.DataFrame.to_csv()` mode should be set as 'a' to append chunk results to a single file; otherwise, only the last chunk will be saved.\n",
    "\n",
    "### 8.1.2 Be Careful with the Index\n",
    "\n",
    "Once, I had a strange with above stream processing logic:"
   ]
  },
  {
   "cell_type": "code",
   "execution_count": 2,
   "metadata": {
    "ExecuteTime": {
     "end_time": "2019-01-20T12:51:35.512216Z",
     "start_time": "2019-01-20T12:51:33.562070Z"
    }
   },
   "outputs": [
    {
     "name": "stderr",
     "output_type": "stream",
     "text": [
      "WARNING: Not updating worker name since `setproctitle` is not installed. Install this with `pip install setproctitle` (or ray[debug]) to enable monitoring of worker processes.\n",
      "Process STDOUT and STDERR is being redirected to /tmp/ray/session_2019-01-20_20-51-34_41781/logs.\n",
      "Waiting for redis server at 127.0.0.1:59136 to respond...\n",
      "Waiting for redis server at 127.0.0.1:53672 to respond...\n",
      "Starting the Plasma object store with 6.871947672999999 GB memory using /tmp.\n"
     ]
    }
   ],
   "source": [
    "import pandas as pd\n",
    "import modin.pandas as mp\n",
    "\n",
    "def stream_process(IN_FILE, OUT_FILE):\n",
    "    reader = pd.read_csv(IN_FILE, chunksize = 1000, engine='c')\n",
    "    for chunk in reader:\n",
    "        result = []\n",
    "        for line in chunk.tolist():\n",
    "             temp = complicated_process(chunk)  # this involves a very complicated processing, so here is just a simplified version\n",
    "             result.append(temp)\n",
    "        chunk['new_series'] = pd.series(result)\n",
    "        chunk.to_csv(OUT_TILE, index=False, mode='a')"
   ]
  },
  {
   "cell_type": "markdown",
   "metadata": {},
   "source": [
    "---\n",
    "\n",
    "I can confirm each loop of result is not empty. But only in the first time of the loop, line `chunk['new_series'] = pd.series(result)` has result, and the rest are empty. Therefore, only the first chunk of the output contains new_series, and the rest are empty.\n",
    "\n",
    "When we tracked the index of each chunk, we found that they are not independent. We assumed that each chunk would start the index from 0, but in reality, it is NOT. The index of each chunk is a subset of the whole CSV in this situation, so their index derives from the CSV. This is what caused the problem. In our initial logic, the `pandas.to_csv` writes only the result of the first chunk, instead of the last chunk.\n",
    "\n",
    "Therefore, a better solution would be rebuild index for each chunk, and concatenating it with result."
   ]
  },
  {
   "cell_type": "code",
   "execution_count": 3,
   "metadata": {
    "ExecuteTime": {
     "end_time": "2019-01-20T12:51:35.528613Z",
     "start_time": "2019-01-20T12:51:35.518159Z"
    }
   },
   "outputs": [],
   "source": [
    "def stream_process(IN_FILE, OUT_FILE):\n",
    "    reader = pd.read_csv(IN_FILE, chunksize = 1000, engine='c')\n",
    "    for chunk in reader:\n",
    "        result = []\n",
    "        for line in chunk.tolist():\n",
    "             temp = complicated_process(chunk)  # this involves a very complicated processing, so here is just a simplified version\n",
    "             result.append(temp)\n",
    "        new_chunk = chunk.reindex()  # key solver\n",
    "        new_chunk = new_chunk.assign(new_series=result)\n",
    "        new_chunk.to_csv(OUT_TILE, index=False, mode='a')"
   ]
  },
  {
   "cell_type": "markdown",
   "metadata": {},
   "source": [
    "## 8.2 Reduce memory usage with pandas\n",
    "\n",
    "### 8.2.1 Reduce with categorical type\n",
    "\n",
    "Often, some columns of data are catagorical, but they are saved as non-catagorical types. Therefore, we can convert them to categorical type with `pd.Series.astype('category')`"
   ]
  },
  {
   "cell_type": "code",
   "execution_count": 4,
   "metadata": {
    "ExecuteTime": {
     "end_time": "2019-01-20T12:51:36.014380Z",
     "start_time": "2019-01-20T12:51:35.532740Z"
    }
   },
   "outputs": [
    {
     "name": "stdout",
     "output_type": "stream",
     "text": [
      "<class 'pandas.core.frame.DataFrame'>\n",
      "RangeIndex: 321792 entries, 0 to 321791\n",
      "Data columns (total 3 columns):\n",
      "MSISDN_SEG    321792 non-null int64\n",
      "AREA_CODE     321792 non-null int64\n",
      "ASP           321792 non-null int64\n",
      "dtypes: int64(3)\n",
      "memory usage: 7.4 MB\n"
     ]
    },
    {
     "data": {
      "text/html": [
       "<div>\n",
       "<style scoped>\n",
       "    .dataframe tbody tr th:only-of-type {\n",
       "        vertical-align: middle;\n",
       "    }\n",
       "\n",
       "    .dataframe tbody tr th {\n",
       "        vertical-align: top;\n",
       "    }\n",
       "\n",
       "    .dataframe thead th {\n",
       "        text-align: right;\n",
       "    }\n",
       "</style>\n",
       "<table border=\"1\" class=\"dataframe\">\n",
       "  <thead>\n",
       "    <tr style=\"text-align: right;\">\n",
       "      <th></th>\n",
       "      <th>MSISDN_SEG</th>\n",
       "      <th>AREA_CODE</th>\n",
       "      <th>ASP</th>\n",
       "    </tr>\n",
       "  </thead>\n",
       "  <tbody>\n",
       "    <tr>\n",
       "      <th>0</th>\n",
       "      <td>1451091</td>\n",
       "      <td>10</td>\n",
       "      <td>2</td>\n",
       "    </tr>\n",
       "    <tr>\n",
       "      <th>1</th>\n",
       "      <td>1451092</td>\n",
       "      <td>10</td>\n",
       "      <td>2</td>\n",
       "    </tr>\n",
       "    <tr>\n",
       "      <th>2</th>\n",
       "      <td>1451093</td>\n",
       "      <td>10</td>\n",
       "      <td>2</td>\n",
       "    </tr>\n",
       "    <tr>\n",
       "      <th>3</th>\n",
       "      <td>1451094</td>\n",
       "      <td>10</td>\n",
       "      <td>2</td>\n",
       "    </tr>\n",
       "    <tr>\n",
       "      <th>4</th>\n",
       "      <td>1451095</td>\n",
       "      <td>10</td>\n",
       "      <td>2</td>\n",
       "    </tr>\n",
       "  </tbody>\n",
       "</table>\n",
       "</div>"
      ],
      "text/plain": [
       "   MSISDN_SEG  AREA_CODE  ASP\n",
       "0     1451091         10    2\n",
       "1     1451092         10    2\n",
       "2     1451093         10    2\n",
       "3     1451094         10    2\n",
       "4     1451095         10    2"
      ]
     },
     "metadata": {},
     "output_type": "display_data"
    },
    {
     "data": {
      "text/plain": [
       "None"
      ]
     },
     "metadata": {},
     "output_type": "display_data"
    },
    {
     "data": {
      "text/plain": [
       "'2.46 MB'"
      ]
     },
     "metadata": {},
     "output_type": "display_data"
    },
    {
     "data": {
      "text/plain": [
       "'0.63 MB'"
      ]
     },
     "metadata": {},
     "output_type": "display_data"
    }
   ],
   "source": [
    "def mem_usage(pandas_obj):\n",
    "    '''\n",
    "    We will use this to check memory usage\n",
    "    '''\n",
    "    if isinstance(pandas_obj,pd.DataFrame):\n",
    "        usage_b = pandas_obj.memory_usage(deep=True).sum()\n",
    "    else: # we assume if not a df it's a series\n",
    "        usage_b = pandas_obj.memory_usage(deep=True)\n",
    "    usage_mb = usage_b / 1024 ** 2 # convert bytes to megabytes\n",
    "    return \"{:03.2f} MB\".format(usage_mb)\n",
    "\n",
    "df = pd.read_csv('../data/mobile_phone.csv')\n",
    "display(df.head(), df.info())\n",
    "display(mem_usage(df['AREA_CODE']), mem_usage(df['AREA_CODE'].astype('category')))"
   ]
  },
  {
   "cell_type": "markdown",
   "metadata": {},
   "source": [
    "### 8.2.2 Choose the right subtypes\n",
    "\n",
    "pandas often chooses a safer dtype to store data; however, this may additional memory usage. For example, we can downcast numerical to `unsigned int` to save space for positive-only integers.\n",
    "\n",
    "<img src=\"../image/subtypes.png\">\n"
   ]
  },
  {
   "cell_type": "code",
   "execution_count": 5,
   "metadata": {
    "ExecuteTime": {
     "end_time": "2019-01-20T12:51:36.383063Z",
     "start_time": "2019-01-20T12:51:36.018784Z"
    }
   },
   "outputs": [
    {
     "name": "stdout",
     "output_type": "stream",
     "text": [
      "<class 'pandas.core.frame.DataFrame'>\n",
      "RangeIndex: 321792 entries, 0 to 321791\n",
      "Data columns (total 3 columns):\n",
      "MSISDN_SEG    321792 non-null uint32\n",
      "AREA_CODE     321792 non-null uint16\n",
      "ASP           321792 non-null uint8\n",
      "dtypes: uint16(1), uint32(1), uint8(1)\n",
      "memory usage: 2.1 MB\n"
     ]
    },
    {
     "data": {
      "text/html": [
       "<div>\n",
       "<style scoped>\n",
       "    .dataframe tbody tr th:only-of-type {\n",
       "        vertical-align: middle;\n",
       "    }\n",
       "\n",
       "    .dataframe tbody tr th {\n",
       "        vertical-align: top;\n",
       "    }\n",
       "\n",
       "    .dataframe thead th {\n",
       "        text-align: right;\n",
       "    }\n",
       "</style>\n",
       "<table border=\"1\" class=\"dataframe\">\n",
       "  <thead>\n",
       "    <tr style=\"text-align: right;\">\n",
       "      <th></th>\n",
       "      <th>MSISDN_SEG</th>\n",
       "      <th>AREA_CODE</th>\n",
       "      <th>ASP</th>\n",
       "    </tr>\n",
       "  </thead>\n",
       "  <tbody>\n",
       "    <tr>\n",
       "      <th>0</th>\n",
       "      <td>1451091</td>\n",
       "      <td>10</td>\n",
       "      <td>2</td>\n",
       "    </tr>\n",
       "    <tr>\n",
       "      <th>1</th>\n",
       "      <td>1451092</td>\n",
       "      <td>10</td>\n",
       "      <td>2</td>\n",
       "    </tr>\n",
       "    <tr>\n",
       "      <th>2</th>\n",
       "      <td>1451093</td>\n",
       "      <td>10</td>\n",
       "      <td>2</td>\n",
       "    </tr>\n",
       "    <tr>\n",
       "      <th>3</th>\n",
       "      <td>1451094</td>\n",
       "      <td>10</td>\n",
       "      <td>2</td>\n",
       "    </tr>\n",
       "    <tr>\n",
       "      <th>4</th>\n",
       "      <td>1451095</td>\n",
       "      <td>10</td>\n",
       "      <td>2</td>\n",
       "    </tr>\n",
       "  </tbody>\n",
       "</table>\n",
       "</div>"
      ],
      "text/plain": [
       "   MSISDN_SEG  AREA_CODE  ASP\n",
       "0     1451091         10    2\n",
       "1     1451092         10    2\n",
       "2     1451093         10    2\n",
       "3     1451094         10    2\n",
       "4     1451095         10    2"
      ]
     },
     "metadata": {},
     "output_type": "display_data"
    },
    {
     "data": {
      "text/plain": [
       "None"
      ]
     },
     "metadata": {},
     "output_type": "display_data"
    },
    {
     "data": {
      "text/plain": [
       "'7.37 MB'"
      ]
     },
     "metadata": {},
     "output_type": "display_data"
    },
    {
     "data": {
      "text/plain": [
       "'2.15 MB'"
      ]
     },
     "metadata": {},
     "output_type": "display_data"
    }
   ],
   "source": [
    "df_int = df.select_dtypes(include=['int'])\n",
    "converted_int = df_int.apply(pd.to_numeric, downcast='unsigned')\n",
    "\n",
    "display(df_int.head(), converted_int.info())\n",
    "display(mem_usage(df_int), mem_usage(converted_int))"
   ]
  },
  {
   "cell_type": "markdown",
   "metadata": {},
   "source": [
    "### 8.2.3 Read data with clarifying dtype of each column\n",
    "\n",
    "When we use pandas to read date, we can set `dtype` for each column, so pandas doesn't have to guess, and also saves space."
   ]
  },
  {
   "cell_type": "code",
   "execution_count": 6,
   "metadata": {
    "ExecuteTime": {
     "end_time": "2019-01-20T12:51:36.890337Z",
     "start_time": "2019-01-20T12:51:36.390905Z"
    }
   },
   "outputs": [
    {
     "name": "stdout",
     "output_type": "stream",
     "text": [
      "CPU times: user 123 ms, sys: 51.9 ms, total: 175 ms\n",
      "Wall time: 299 ms\n",
      "CPU times: user 111 ms, sys: 21.2 ms, total: 132 ms\n",
      "Wall time: 133 ms\n",
      "<class 'pandas.core.frame.DataFrame'>\n",
      "RangeIndex: 321792 entries, 0 to 321791\n",
      "Data columns (total 3 columns):\n",
      "MSISDN_SEG    321792 non-null int64\n",
      "AREA_CODE     321792 non-null int64\n",
      "ASP           321792 non-null int64\n",
      "dtypes: int64(3)\n",
      "memory usage: 7.4 MB\n",
      "<class 'pandas.core.frame.DataFrame'>\n",
      "RangeIndex: 321792 entries, 0 to 321791\n",
      "Data columns (total 3 columns):\n",
      "MSISDN_SEG    321792 non-null uint32\n",
      "AREA_CODE     321792 non-null category\n",
      "ASP           321792 non-null category\n",
      "dtypes: category(2), uint32(1)\n",
      "memory usage: 2.2 MB\n"
     ]
    },
    {
     "data": {
      "text/plain": [
       "None"
      ]
     },
     "metadata": {},
     "output_type": "display_data"
    },
    {
     "data": {
      "text/plain": [
       "None"
      ]
     },
     "metadata": {},
     "output_type": "display_data"
    }
   ],
   "source": [
    "%time df1 = pd.read_csv('../data/mobile_phone.csv', engine='c')\n",
    "\n",
    "column_type = {'MSISDN_SEG': 'uint32', 'AREA_CODE': 'category', 'ASP': 'category'}\n",
    "%time df2 = pd.read_csv('../data/mobile_phone.csv', dtype=column_type, engine='c')\n",
    "\n",
    "display(df1.info(), df2.info())"
   ]
  },
  {
   "cell_type": "markdown",
   "metadata": {},
   "source": [
    "## 8.3 Cython\n",
    "\n",
    "Cython is a C implementation of Python, and pandas can work nicely with Cython. If you don't know C, you can just import Cython to gain speed; moreover, if you know C, you can modify your code to Cython syntax to gain extra speed."
   ]
  },
  {
   "cell_type": "code",
   "execution_count": 7,
   "metadata": {
    "ExecuteTime": {
     "end_time": "2019-01-20T12:51:36.914987Z",
     "start_time": "2019-01-20T12:51:36.893911Z"
    }
   },
   "outputs": [
    {
     "name": "stdout",
     "output_type": "stream",
     "text": [
      "CPU times: user 5.89 ms, sys: 2.62 ms, total: 8.51 ms\n",
      "Wall time: 8.62 ms\n"
     ]
    }
   ],
   "source": [
    "def demo_calc(series):\n",
    "    return series * 67 - 89 / 45\n",
    "\n",
    "%time series1 = demo_calc(df1['MSISDN_SEG'])"
   ]
  },
  {
   "cell_type": "code",
   "execution_count": 8,
   "metadata": {
    "ExecuteTime": {
     "end_time": "2019-01-20T12:51:37.879341Z",
     "start_time": "2019-01-20T12:51:36.923659Z"
    }
   },
   "outputs": [
    {
     "name": "stdout",
     "output_type": "stream",
     "text": [
      "CPU times: user 2.09 ms, sys: 853 µs, total: 2.94 ms\n",
      "Wall time: 2.95 ms\n"
     ]
    }
   ],
   "source": [
    "%load_ext cython\n",
    "\n",
    "%time series2 = demo_calc(df1['MSISDN_SEG'])"
   ]
  },
  {
   "cell_type": "markdown",
   "metadata": {},
   "source": [
    "## 8.4 Modin\n",
    "\n",
    "Modin is a DataFrame library that allows you to speed up your pandas workflows by changing one line of code. "
   ]
  },
  {
   "cell_type": "code",
   "execution_count": 9,
   "metadata": {
    "ExecuteTime": {
     "end_time": "2019-01-20T12:51:38.090576Z",
     "start_time": "2019-01-20T12:51:37.882419Z"
    }
   },
   "outputs": [
    {
     "name": "stdout",
     "output_type": "stream",
     "text": [
      "CPU times: user 89.7 ms, sys: 29.9 ms, total: 120 ms\n",
      "Wall time: 118 ms\n",
      "CPU times: user 8.75 ms, sys: 2.44 ms, total: 11.2 ms\n",
      "Wall time: 81.7 ms\n"
     ]
    }
   ],
   "source": [
    "%time df1 = pd.read_csv('../data/mobile_phone.csv')\n",
    "%time df2 = mp.read_csv('../data/mobile_phone.csv')"
   ]
  },
  {
   "cell_type": "code",
   "execution_count": 10,
   "metadata": {
    "ExecuteTime": {
     "end_time": "2019-01-20T12:51:38.249991Z",
     "start_time": "2019-01-20T12:51:38.094025Z"
    }
   },
   "outputs": [
    {
     "name": "stdout",
     "output_type": "stream",
     "text": [
      "CPU times: user 7.7 ms, sys: 2.33 ms, total: 10 ms\n",
      "Wall time: 6.94 ms\n",
      "CPU times: user 113 ms, sys: 11.6 ms, total: 124 ms\n",
      "Wall time: 136 ms\n"
     ]
    }
   ],
   "source": [
    "def demo_calc(series):\n",
    "    return series * 67 - 89 / 45\n",
    "\n",
    "def demo_calc2(series):\n",
    "    return mp.Series(series) * 67 - 89 / 45\n",
    "\n",
    "%time series1 = demo_calc(df1['MSISDN_SEG'])\n",
    "%time series2 = demo_calc2(df2['MSISDN_SEG'])"
   ]
  },
  {
   "cell_type": "markdown",
   "metadata": {},
   "source": [
    "---\n",
    "\n",
    "## 8.5 Exercises\n",
    "\n",
    "1. Read [Enhancing Performance](https://pandas.pydata.org/pandas-docs/stable/enhancingperf.html) by pandas\n",
    "2. Read this post [Tutorial: Using pandas with Large Data Sets](https://www.dataquest.io/blog/pandas-big-data/)\n",
    "3. We showed using `chunk_size` with `pd.read_table`, can you try this with `pd.read_json`?"
   ]
  },
  {
   "cell_type": "markdown",
   "metadata": {
    "ExecuteTime": {
     "end_time": "2019-01-19T23:46:44.266549Z",
     "start_time": "2019-01-19T23:46:44.256174Z"
    }
   },
   "source": [
    "---"
   ]
  }
 ],
 "metadata": {
  "kernelspec": {
   "display_name": "Python 3",
   "language": "python",
   "name": "python3"
  },
  "language_info": {
   "codemirror_mode": {
    "name": "ipython",
    "version": 3
   },
   "file_extension": ".py",
   "mimetype": "text/x-python",
   "name": "python",
   "nbconvert_exporter": "python",
   "pygments_lexer": "ipython3",
   "version": "3.7.2"
  },
  "toc": {
   "base_numbering": 1,
   "nav_menu": {},
   "number_sections": false,
   "sideBar": true,
   "skip_h1_title": false,
   "title_cell": "Table of Contents",
   "title_sidebar": "Contents",
   "toc_cell": false,
   "toc_position": {},
   "toc_section_display": true,
   "toc_window_display": false
  }
 },
 "nbformat": 4,
 "nbformat_minor": 2
}
