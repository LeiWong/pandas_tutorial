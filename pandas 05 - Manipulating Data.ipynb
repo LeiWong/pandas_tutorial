{
 "cells": [
  {
   "cell_type": "markdown",
   "metadata": {},
   "source": [
    "# pandas 05 - Manipulating Data\n",
    "\n",
    "by Nova@Douban\n",
    "\n",
    "The video record of this session is here: https://zoom.us/recording/share/BMnU5AHK8mriOojOb3PtF2oyzjZ7ivW_mXC_Rp-olUiwIumekTziMw\n",
    "\n",
    "---\n",
    "\n",
    "## 5.1 Handling Missing values\n",
    "\n",
    "### 5.1.1 What are missing values in pandas?\n",
    "\n",
    "The `NaN` value represents that in a particular Series that there is not a value specifed for the particular index label.\n",
    "\n",
    "Causes of `NaN`:\n",
    "\n",
    "1. A join of two sets of data;\n",
    "2. Dirty data from an external source;\n",
    "3. The `NaN` value is not known / an error at the time of generating;\n",
    "5. Reindexing of data;\n",
    "6. The shape of data has changed and there are now additional rows or columns."
   ]
  },
  {
   "cell_type": "code",
   "execution_count": 1,
   "metadata": {
    "ExecuteTime": {
     "end_time": "2019-01-11T11:54:11.109429Z",
     "start_time": "2019-01-11T11:54:09.999364Z"
    }
   },
   "outputs": [
    {
     "data": {
      "text/html": [
       "<div>\n",
       "<style scoped>\n",
       "    .dataframe tbody tr th:only-of-type {\n",
       "        vertical-align: middle;\n",
       "    }\n",
       "\n",
       "    .dataframe tbody tr th {\n",
       "        vertical-align: top;\n",
       "    }\n",
       "\n",
       "    .dataframe thead th {\n",
       "        text-align: right;\n",
       "    }\n",
       "</style>\n",
       "<table border=\"1\" class=\"dataframe\">\n",
       "  <thead>\n",
       "    <tr style=\"text-align: right;\">\n",
       "      <th></th>\n",
       "      <th>a</th>\n",
       "      <th>b</th>\n",
       "      <th>c</th>\n",
       "      <th>d</th>\n",
       "    </tr>\n",
       "  </thead>\n",
       "  <tbody>\n",
       "    <tr>\n",
       "      <th>A</th>\n",
       "      <td>-0.05975</td>\n",
       "      <td>1.021281</td>\n",
       "      <td>0.37801</td>\n",
       "      <td>NaN</td>\n",
       "    </tr>\n",
       "    <tr>\n",
       "      <th>B</th>\n",
       "      <td>-0.05975</td>\n",
       "      <td>1.021281</td>\n",
       "      <td>0.37801</td>\n",
       "      <td>NaN</td>\n",
       "    </tr>\n",
       "    <tr>\n",
       "      <th>C</th>\n",
       "      <td>-0.05975</td>\n",
       "      <td>1.021281</td>\n",
       "      <td>0.37801</td>\n",
       "      <td>NaN</td>\n",
       "    </tr>\n",
       "    <tr>\n",
       "      <th>D</th>\n",
       "      <td>NaN</td>\n",
       "      <td>NaN</td>\n",
       "      <td>NaN</td>\n",
       "      <td>NaN</td>\n",
       "    </tr>\n",
       "  </tbody>\n",
       "</table>\n",
       "</div>"
      ],
      "text/plain": [
       "         a         b        c   d\n",
       "A -0.05975  1.021281  0.37801 NaN\n",
       "B -0.05975  1.021281  0.37801 NaN\n",
       "C -0.05975  1.021281  0.37801 NaN\n",
       "D      NaN       NaN      NaN NaN"
      ]
     },
     "execution_count": 1,
     "metadata": {},
     "output_type": "execute_result"
    }
   ],
   "source": [
    "import pandas as pd\n",
    "import numpy as np\n",
    "%load_ext memory_profiler\n",
    "\n",
    "df = pd.DataFrame([np.random.randn(3)]*3, columns=['a', 'b', 'c'], index=['A', 'B', 'C'] )\n",
    "df['d'], df.loc['D'] = np.nan, np.nan\n",
    "df"
   ]
  },
  {
   "cell_type": "markdown",
   "metadata": {},
   "source": [
    "---\n",
    "\n",
    "### 5.1.2 Evaluating NaN values\n",
    "\n",
    "`pd.Dataframe.isnull()`: check if the DataFrame contains `Nan`.\n",
    "`pd.Dataframe.notnull()`: check if the DataFrame contains `Nan`.\n",
    "`pd.Dataframe.count()`: count valid values in DataFrame."
   ]
  },
  {
   "cell_type": "code",
   "execution_count": 2,
   "metadata": {
    "ExecuteTime": {
     "end_time": "2019-01-11T11:54:11.177123Z",
     "start_time": "2019-01-11T11:54:11.137251Z"
    }
   },
   "outputs": [
    {
     "data": {
      "text/html": [
       "<div>\n",
       "<style scoped>\n",
       "    .dataframe tbody tr th:only-of-type {\n",
       "        vertical-align: middle;\n",
       "    }\n",
       "\n",
       "    .dataframe tbody tr th {\n",
       "        vertical-align: top;\n",
       "    }\n",
       "\n",
       "    .dataframe thead th {\n",
       "        text-align: right;\n",
       "    }\n",
       "</style>\n",
       "<table border=\"1\" class=\"dataframe\">\n",
       "  <thead>\n",
       "    <tr style=\"text-align: right;\">\n",
       "      <th></th>\n",
       "      <th>a</th>\n",
       "      <th>b</th>\n",
       "      <th>c</th>\n",
       "      <th>d</th>\n",
       "    </tr>\n",
       "  </thead>\n",
       "  <tbody>\n",
       "    <tr>\n",
       "      <th>A</th>\n",
       "      <td>False</td>\n",
       "      <td>False</td>\n",
       "      <td>False</td>\n",
       "      <td>True</td>\n",
       "    </tr>\n",
       "    <tr>\n",
       "      <th>B</th>\n",
       "      <td>False</td>\n",
       "      <td>False</td>\n",
       "      <td>False</td>\n",
       "      <td>True</td>\n",
       "    </tr>\n",
       "    <tr>\n",
       "      <th>C</th>\n",
       "      <td>False</td>\n",
       "      <td>False</td>\n",
       "      <td>False</td>\n",
       "      <td>True</td>\n",
       "    </tr>\n",
       "    <tr>\n",
       "      <th>D</th>\n",
       "      <td>True</td>\n",
       "      <td>True</td>\n",
       "      <td>True</td>\n",
       "      <td>True</td>\n",
       "    </tr>\n",
       "  </tbody>\n",
       "</table>\n",
       "</div>"
      ],
      "text/plain": [
       "       a      b      c     d\n",
       "A  False  False  False  True\n",
       "B  False  False  False  True\n",
       "C  False  False  False  True\n",
       "D   True   True   True  True"
      ]
     },
     "metadata": {},
     "output_type": "display_data"
    },
    {
     "data": {
      "text/html": [
       "<div>\n",
       "<style scoped>\n",
       "    .dataframe tbody tr th:only-of-type {\n",
       "        vertical-align: middle;\n",
       "    }\n",
       "\n",
       "    .dataframe tbody tr th {\n",
       "        vertical-align: top;\n",
       "    }\n",
       "\n",
       "    .dataframe thead th {\n",
       "        text-align: right;\n",
       "    }\n",
       "</style>\n",
       "<table border=\"1\" class=\"dataframe\">\n",
       "  <thead>\n",
       "    <tr style=\"text-align: right;\">\n",
       "      <th></th>\n",
       "      <th>a</th>\n",
       "      <th>b</th>\n",
       "      <th>c</th>\n",
       "      <th>d</th>\n",
       "    </tr>\n",
       "  </thead>\n",
       "  <tbody>\n",
       "    <tr>\n",
       "      <th>A</th>\n",
       "      <td>True</td>\n",
       "      <td>True</td>\n",
       "      <td>True</td>\n",
       "      <td>False</td>\n",
       "    </tr>\n",
       "    <tr>\n",
       "      <th>B</th>\n",
       "      <td>True</td>\n",
       "      <td>True</td>\n",
       "      <td>True</td>\n",
       "      <td>False</td>\n",
       "    </tr>\n",
       "    <tr>\n",
       "      <th>C</th>\n",
       "      <td>True</td>\n",
       "      <td>True</td>\n",
       "      <td>True</td>\n",
       "      <td>False</td>\n",
       "    </tr>\n",
       "    <tr>\n",
       "      <th>D</th>\n",
       "      <td>False</td>\n",
       "      <td>False</td>\n",
       "      <td>False</td>\n",
       "      <td>False</td>\n",
       "    </tr>\n",
       "  </tbody>\n",
       "</table>\n",
       "</div>"
      ],
      "text/plain": [
       "       a      b      c      d\n",
       "A   True   True   True  False\n",
       "B   True   True   True  False\n",
       "C   True   True   True  False\n",
       "D  False  False  False  False"
      ]
     },
     "metadata": {},
     "output_type": "display_data"
    }
   ],
   "source": [
    "display(df.isnull(), df.notnull())"
   ]
  },
  {
   "cell_type": "code",
   "execution_count": 3,
   "metadata": {
    "ExecuteTime": {
     "end_time": "2019-01-11T11:54:11.195102Z",
     "start_time": "2019-01-11T11:54:11.181683Z"
    }
   },
   "outputs": [
    {
     "data": {
      "text/plain": [
       "a    3\n",
       "b    3\n",
       "c    3\n",
       "d    0\n",
       "dtype: int64"
      ]
     },
     "execution_count": 3,
     "metadata": {},
     "output_type": "execute_result"
    }
   ],
   "source": [
    "df.count()"
   ]
  },
  {
   "cell_type": "markdown",
   "metadata": {},
   "source": [
    "---\n",
    "\n",
    "### 5.1.3 Filtering out missing values\n",
    "\n",
    "1. `dropna` by default drops any row containing a missing value\n",
    "2. passing `how='all'` will only drop rows that are all NA\n",
    "3. dropping columns by passing `axis=1`"
   ]
  },
  {
   "cell_type": "code",
   "execution_count": 4,
   "metadata": {
    "ExecuteTime": {
     "end_time": "2019-01-11T11:54:11.223110Z",
     "start_time": "2019-01-11T11:54:11.202124Z"
    }
   },
   "outputs": [
    {
     "data": {
      "text/html": [
       "<div>\n",
       "<style scoped>\n",
       "    .dataframe tbody tr th:only-of-type {\n",
       "        vertical-align: middle;\n",
       "    }\n",
       "\n",
       "    .dataframe tbody tr th {\n",
       "        vertical-align: top;\n",
       "    }\n",
       "\n",
       "    .dataframe thead th {\n",
       "        text-align: right;\n",
       "    }\n",
       "</style>\n",
       "<table border=\"1\" class=\"dataframe\">\n",
       "  <thead>\n",
       "    <tr style=\"text-align: right;\">\n",
       "      <th></th>\n",
       "      <th>a</th>\n",
       "      <th>b</th>\n",
       "      <th>c</th>\n",
       "      <th>d</th>\n",
       "    </tr>\n",
       "  </thead>\n",
       "  <tbody>\n",
       "  </tbody>\n",
       "</table>\n",
       "</div>"
      ],
      "text/plain": [
       "Empty DataFrame\n",
       "Columns: [a, b, c, d]\n",
       "Index: []"
      ]
     },
     "execution_count": 4,
     "metadata": {},
     "output_type": "execute_result"
    }
   ],
   "source": [
    "df.dropna()"
   ]
  },
  {
   "cell_type": "code",
   "execution_count": 33,
   "metadata": {
    "ExecuteTime": {
     "end_time": "2019-01-11T12:08:47.408774Z",
     "start_time": "2019-01-11T12:08:47.255312Z"
    }
   },
   "outputs": [
    {
     "data": {
      "text/html": [
       "<div>\n",
       "<style scoped>\n",
       "    .dataframe tbody tr th:only-of-type {\n",
       "        vertical-align: middle;\n",
       "    }\n",
       "\n",
       "    .dataframe tbody tr th {\n",
       "        vertical-align: top;\n",
       "    }\n",
       "\n",
       "    .dataframe thead th {\n",
       "        text-align: right;\n",
       "    }\n",
       "</style>\n",
       "<table border=\"1\" class=\"dataframe\">\n",
       "  <thead>\n",
       "    <tr style=\"text-align: right;\">\n",
       "      <th></th>\n",
       "      <th>a</th>\n",
       "      <th>b</th>\n",
       "      <th>c</th>\n",
       "      <th>d</th>\n",
       "      <th>e</th>\n",
       "    </tr>\n",
       "  </thead>\n",
       "  <tbody>\n",
       "    <tr>\n",
       "      <th>A</th>\n",
       "      <td>-0.05975</td>\n",
       "      <td>1.021281</td>\n",
       "      <td>0.37801</td>\n",
       "      <td>NaN</td>\n",
       "      <td>-2.675991</td>\n",
       "    </tr>\n",
       "    <tr>\n",
       "      <th>B</th>\n",
       "      <td>-0.05975</td>\n",
       "      <td>1.021281</td>\n",
       "      <td>0.37801</td>\n",
       "      <td>NaN</td>\n",
       "      <td>-2.675991</td>\n",
       "    </tr>\n",
       "    <tr>\n",
       "      <th>C</th>\n",
       "      <td>-0.05975</td>\n",
       "      <td>1.021281</td>\n",
       "      <td>0.37801</td>\n",
       "      <td>NaN</td>\n",
       "      <td>-2.675991</td>\n",
       "    </tr>\n",
       "  </tbody>\n",
       "</table>\n",
       "</div>"
      ],
      "text/plain": [
       "         a         b        c   d         e\n",
       "A -0.05975  1.021281  0.37801 NaN -2.675991\n",
       "B -0.05975  1.021281  0.37801 NaN -2.675991\n",
       "C -0.05975  1.021281  0.37801 NaN -2.675991"
      ]
     },
     "metadata": {},
     "output_type": "display_data"
    },
    {
     "data": {
      "text/html": [
       "<div>\n",
       "<style scoped>\n",
       "    .dataframe tbody tr th:only-of-type {\n",
       "        vertical-align: middle;\n",
       "    }\n",
       "\n",
       "    .dataframe tbody tr th {\n",
       "        vertical-align: top;\n",
       "    }\n",
       "\n",
       "    .dataframe thead th {\n",
       "        text-align: right;\n",
       "    }\n",
       "</style>\n",
       "<table border=\"1\" class=\"dataframe\">\n",
       "  <thead>\n",
       "    <tr style=\"text-align: right;\">\n",
       "      <th></th>\n",
       "      <th>a</th>\n",
       "      <th>b</th>\n",
       "      <th>c</th>\n",
       "      <th>e</th>\n",
       "    </tr>\n",
       "  </thead>\n",
       "  <tbody>\n",
       "    <tr>\n",
       "      <th>A</th>\n",
       "      <td>-0.05975</td>\n",
       "      <td>1.021281</td>\n",
       "      <td>0.37801</td>\n",
       "      <td>-2.675991</td>\n",
       "    </tr>\n",
       "    <tr>\n",
       "      <th>B</th>\n",
       "      <td>-0.05975</td>\n",
       "      <td>1.021281</td>\n",
       "      <td>0.37801</td>\n",
       "      <td>-2.675991</td>\n",
       "    </tr>\n",
       "    <tr>\n",
       "      <th>C</th>\n",
       "      <td>-0.05975</td>\n",
       "      <td>1.021281</td>\n",
       "      <td>0.37801</td>\n",
       "      <td>-2.675991</td>\n",
       "    </tr>\n",
       "    <tr>\n",
       "      <th>D</th>\n",
       "      <td>NaN</td>\n",
       "      <td>NaN</td>\n",
       "      <td>NaN</td>\n",
       "      <td>NaN</td>\n",
       "    </tr>\n",
       "  </tbody>\n",
       "</table>\n",
       "</div>"
      ],
      "text/plain": [
       "         a         b        c         e\n",
       "A -0.05975  1.021281  0.37801 -2.675991\n",
       "B -0.05975  1.021281  0.37801 -2.675991\n",
       "C -0.05975  1.021281  0.37801 -2.675991\n",
       "D      NaN       NaN      NaN       NaN"
      ]
     },
     "metadata": {},
     "output_type": "display_data"
    }
   ],
   "source": [
    "display(df.dropna(how='all'), df.dropna(how='all', axis=1))"
   ]
  },
  {
   "cell_type": "markdown",
   "metadata": {},
   "source": [
    "---\n",
    "\n",
    "### 5.1.4 Filling in missing values\n",
    "\n",
    "1. Calling `fillna` with a constant replaces missing values with that value;\n",
    "\n",
    "2. pandas allows forward and backword filling with `method=ffill` or `method=bfill`;"
   ]
  },
  {
   "cell_type": "code",
   "execution_count": 6,
   "metadata": {
    "ExecuteTime": {
     "end_time": "2019-01-11T11:54:11.321190Z",
     "start_time": "2019-01-11T11:54:11.305912Z"
    }
   },
   "outputs": [
    {
     "data": {
      "text/html": [
       "<div>\n",
       "<style scoped>\n",
       "    .dataframe tbody tr th:only-of-type {\n",
       "        vertical-align: middle;\n",
       "    }\n",
       "\n",
       "    .dataframe tbody tr th {\n",
       "        vertical-align: top;\n",
       "    }\n",
       "\n",
       "    .dataframe thead th {\n",
       "        text-align: right;\n",
       "    }\n",
       "</style>\n",
       "<table border=\"1\" class=\"dataframe\">\n",
       "  <thead>\n",
       "    <tr style=\"text-align: right;\">\n",
       "      <th></th>\n",
       "      <th>a</th>\n",
       "      <th>b</th>\n",
       "      <th>c</th>\n",
       "      <th>d</th>\n",
       "    </tr>\n",
       "  </thead>\n",
       "  <tbody>\n",
       "    <tr>\n",
       "      <th>A</th>\n",
       "      <td>-0.05975</td>\n",
       "      <td>1.021281</td>\n",
       "      <td>0.37801</td>\n",
       "      <td>0.0</td>\n",
       "    </tr>\n",
       "    <tr>\n",
       "      <th>B</th>\n",
       "      <td>-0.05975</td>\n",
       "      <td>1.021281</td>\n",
       "      <td>0.37801</td>\n",
       "      <td>0.0</td>\n",
       "    </tr>\n",
       "    <tr>\n",
       "      <th>C</th>\n",
       "      <td>-0.05975</td>\n",
       "      <td>1.021281</td>\n",
       "      <td>0.37801</td>\n",
       "      <td>0.0</td>\n",
       "    </tr>\n",
       "    <tr>\n",
       "      <th>D</th>\n",
       "      <td>0.00000</td>\n",
       "      <td>0.000000</td>\n",
       "      <td>0.00000</td>\n",
       "      <td>0.0</td>\n",
       "    </tr>\n",
       "  </tbody>\n",
       "</table>\n",
       "</div>"
      ],
      "text/plain": [
       "         a         b        c    d\n",
       "A -0.05975  1.021281  0.37801  0.0\n",
       "B -0.05975  1.021281  0.37801  0.0\n",
       "C -0.05975  1.021281  0.37801  0.0\n",
       "D  0.00000  0.000000  0.00000  0.0"
      ]
     },
     "execution_count": 6,
     "metadata": {},
     "output_type": "execute_result"
    }
   ],
   "source": [
    "df.fillna(0)"
   ]
  },
  {
   "cell_type": "code",
   "execution_count": 7,
   "metadata": {
    "ExecuteTime": {
     "end_time": "2019-01-11T11:54:11.350462Z",
     "start_time": "2019-01-11T11:54:11.325402Z"
    }
   },
   "outputs": [
    {
     "data": {
      "text/html": [
       "<div>\n",
       "<style scoped>\n",
       "    .dataframe tbody tr th:only-of-type {\n",
       "        vertical-align: middle;\n",
       "    }\n",
       "\n",
       "    .dataframe tbody tr th {\n",
       "        vertical-align: top;\n",
       "    }\n",
       "\n",
       "    .dataframe thead th {\n",
       "        text-align: right;\n",
       "    }\n",
       "</style>\n",
       "<table border=\"1\" class=\"dataframe\">\n",
       "  <thead>\n",
       "    <tr style=\"text-align: right;\">\n",
       "      <th></th>\n",
       "      <th>a</th>\n",
       "      <th>b</th>\n",
       "      <th>c</th>\n",
       "      <th>d</th>\n",
       "    </tr>\n",
       "  </thead>\n",
       "  <tbody>\n",
       "    <tr>\n",
       "      <th>A</th>\n",
       "      <td>-0.05975</td>\n",
       "      <td>1.021281</td>\n",
       "      <td>0.37801</td>\n",
       "      <td>NaN</td>\n",
       "    </tr>\n",
       "    <tr>\n",
       "      <th>B</th>\n",
       "      <td>-0.05975</td>\n",
       "      <td>1.021281</td>\n",
       "      <td>0.37801</td>\n",
       "      <td>NaN</td>\n",
       "    </tr>\n",
       "    <tr>\n",
       "      <th>C</th>\n",
       "      <td>-0.05975</td>\n",
       "      <td>1.021281</td>\n",
       "      <td>0.37801</td>\n",
       "      <td>NaN</td>\n",
       "    </tr>\n",
       "    <tr>\n",
       "      <th>D</th>\n",
       "      <td>-0.05975</td>\n",
       "      <td>1.021281</td>\n",
       "      <td>0.37801</td>\n",
       "      <td>NaN</td>\n",
       "    </tr>\n",
       "  </tbody>\n",
       "</table>\n",
       "</div>"
      ],
      "text/plain": [
       "         a         b        c   d\n",
       "A -0.05975  1.021281  0.37801 NaN\n",
       "B -0.05975  1.021281  0.37801 NaN\n",
       "C -0.05975  1.021281  0.37801 NaN\n",
       "D -0.05975  1.021281  0.37801 NaN"
      ]
     },
     "metadata": {},
     "output_type": "display_data"
    },
    {
     "data": {
      "text/html": [
       "<div>\n",
       "<style scoped>\n",
       "    .dataframe tbody tr th:only-of-type {\n",
       "        vertical-align: middle;\n",
       "    }\n",
       "\n",
       "    .dataframe tbody tr th {\n",
       "        vertical-align: top;\n",
       "    }\n",
       "\n",
       "    .dataframe thead th {\n",
       "        text-align: right;\n",
       "    }\n",
       "</style>\n",
       "<table border=\"1\" class=\"dataframe\">\n",
       "  <thead>\n",
       "    <tr style=\"text-align: right;\">\n",
       "      <th></th>\n",
       "      <th>a</th>\n",
       "      <th>b</th>\n",
       "      <th>c</th>\n",
       "      <th>d</th>\n",
       "    </tr>\n",
       "  </thead>\n",
       "  <tbody>\n",
       "    <tr>\n",
       "      <th>A</th>\n",
       "      <td>-0.05975</td>\n",
       "      <td>1.021281</td>\n",
       "      <td>0.37801</td>\n",
       "      <td>NaN</td>\n",
       "    </tr>\n",
       "    <tr>\n",
       "      <th>B</th>\n",
       "      <td>-0.05975</td>\n",
       "      <td>1.021281</td>\n",
       "      <td>0.37801</td>\n",
       "      <td>NaN</td>\n",
       "    </tr>\n",
       "    <tr>\n",
       "      <th>C</th>\n",
       "      <td>-0.05975</td>\n",
       "      <td>1.021281</td>\n",
       "      <td>0.37801</td>\n",
       "      <td>NaN</td>\n",
       "    </tr>\n",
       "    <tr>\n",
       "      <th>D</th>\n",
       "      <td>NaN</td>\n",
       "      <td>NaN</td>\n",
       "      <td>NaN</td>\n",
       "      <td>NaN</td>\n",
       "    </tr>\n",
       "  </tbody>\n",
       "</table>\n",
       "</div>"
      ],
      "text/plain": [
       "         a         b        c   d\n",
       "A -0.05975  1.021281  0.37801 NaN\n",
       "B -0.05975  1.021281  0.37801 NaN\n",
       "C -0.05975  1.021281  0.37801 NaN\n",
       "D      NaN       NaN      NaN NaN"
      ]
     },
     "metadata": {},
     "output_type": "display_data"
    }
   ],
   "source": [
    "display(df.fillna(method='ffill'), df.fillna(method='bfill'))"
   ]
  },
  {
   "cell_type": "markdown",
   "metadata": {},
   "source": [
    "---\n",
    "\n",
    "### 5.1.5 Interpolation of missing values\n",
    "\n",
    "Both DataFrame and Series have an `.interpolate()` method that will perform a linear interpolation of missing values:\n",
    "\n",
    "1. by taking the frst value before and after any sequence of `NaN` values and then incrementally adding that value from the start and substituting `NaN` values."
   ]
  },
  {
   "cell_type": "code",
   "execution_count": 8,
   "metadata": {
    "ExecuteTime": {
     "end_time": "2019-01-11T11:54:11.397238Z",
     "start_time": "2019-01-11T11:54:11.354072Z"
    }
   },
   "outputs": [
    {
     "data": {
      "text/html": [
       "<div>\n",
       "<style scoped>\n",
       "    .dataframe tbody tr th:only-of-type {\n",
       "        vertical-align: middle;\n",
       "    }\n",
       "\n",
       "    .dataframe tbody tr th {\n",
       "        vertical-align: top;\n",
       "    }\n",
       "\n",
       "    .dataframe thead th {\n",
       "        text-align: right;\n",
       "    }\n",
       "</style>\n",
       "<table border=\"1\" class=\"dataframe\">\n",
       "  <thead>\n",
       "    <tr style=\"text-align: right;\">\n",
       "      <th></th>\n",
       "      <th>a</th>\n",
       "      <th>b</th>\n",
       "      <th>c</th>\n",
       "      <th>d</th>\n",
       "    </tr>\n",
       "  </thead>\n",
       "  <tbody>\n",
       "    <tr>\n",
       "      <th>A</th>\n",
       "      <td>-0.05975</td>\n",
       "      <td>1.021281</td>\n",
       "      <td>0.37801</td>\n",
       "      <td>NaN</td>\n",
       "    </tr>\n",
       "    <tr>\n",
       "      <th>B</th>\n",
       "      <td>-0.05975</td>\n",
       "      <td>1.021281</td>\n",
       "      <td>0.37801</td>\n",
       "      <td>NaN</td>\n",
       "    </tr>\n",
       "    <tr>\n",
       "      <th>C</th>\n",
       "      <td>-0.05975</td>\n",
       "      <td>1.021281</td>\n",
       "      <td>0.37801</td>\n",
       "      <td>NaN</td>\n",
       "    </tr>\n",
       "    <tr>\n",
       "      <th>D</th>\n",
       "      <td>NaN</td>\n",
       "      <td>NaN</td>\n",
       "      <td>NaN</td>\n",
       "      <td>NaN</td>\n",
       "    </tr>\n",
       "  </tbody>\n",
       "</table>\n",
       "</div>"
      ],
      "text/plain": [
       "         a         b        c   d\n",
       "A -0.05975  1.021281  0.37801 NaN\n",
       "B -0.05975  1.021281  0.37801 NaN\n",
       "C -0.05975  1.021281  0.37801 NaN\n",
       "D      NaN       NaN      NaN NaN"
      ]
     },
     "metadata": {},
     "output_type": "display_data"
    },
    {
     "data": {
      "text/html": [
       "<div>\n",
       "<style scoped>\n",
       "    .dataframe tbody tr th:only-of-type {\n",
       "        vertical-align: middle;\n",
       "    }\n",
       "\n",
       "    .dataframe tbody tr th {\n",
       "        vertical-align: top;\n",
       "    }\n",
       "\n",
       "    .dataframe thead th {\n",
       "        text-align: right;\n",
       "    }\n",
       "</style>\n",
       "<table border=\"1\" class=\"dataframe\">\n",
       "  <thead>\n",
       "    <tr style=\"text-align: right;\">\n",
       "      <th></th>\n",
       "      <th>a</th>\n",
       "      <th>b</th>\n",
       "      <th>c</th>\n",
       "      <th>d</th>\n",
       "    </tr>\n",
       "  </thead>\n",
       "  <tbody>\n",
       "    <tr>\n",
       "      <th>A</th>\n",
       "      <td>-0.05975</td>\n",
       "      <td>1.021281</td>\n",
       "      <td>0.37801</td>\n",
       "      <td>NaN</td>\n",
       "    </tr>\n",
       "    <tr>\n",
       "      <th>B</th>\n",
       "      <td>-0.05975</td>\n",
       "      <td>1.021281</td>\n",
       "      <td>0.37801</td>\n",
       "      <td>NaN</td>\n",
       "    </tr>\n",
       "    <tr>\n",
       "      <th>C</th>\n",
       "      <td>-0.05975</td>\n",
       "      <td>1.021281</td>\n",
       "      <td>0.37801</td>\n",
       "      <td>NaN</td>\n",
       "    </tr>\n",
       "    <tr>\n",
       "      <th>D</th>\n",
       "      <td>-0.05975</td>\n",
       "      <td>1.021281</td>\n",
       "      <td>0.37801</td>\n",
       "      <td>NaN</td>\n",
       "    </tr>\n",
       "  </tbody>\n",
       "</table>\n",
       "</div>"
      ],
      "text/plain": [
       "         a         b        c   d\n",
       "A -0.05975  1.021281  0.37801 NaN\n",
       "B -0.05975  1.021281  0.37801 NaN\n",
       "C -0.05975  1.021281  0.37801 NaN\n",
       "D -0.05975  1.021281  0.37801 NaN"
      ]
     },
     "metadata": {},
     "output_type": "display_data"
    }
   ],
   "source": [
    "display(df, df.interpolate())"
   ]
  },
  {
   "cell_type": "markdown",
   "metadata": {},
   "source": [
    "---\n",
    "\n",
    "## 5.2 Handling duplicate values\n",
    "\n",
    "Duplicate values are another form of bad data. We can use the following methods to handle duplicate values:\n",
    "\n",
    "`pd.duplicated()`: check if a DataFrame contains duplicate rows;\n",
    "`pd.drop_duplicates()`: drops duplicate rowsfrom a DataFrame, and returns a copy;\n",
    "`pd.drop_duplicates(keep='last')`: keeps the last duplicate row;"
   ]
  },
  {
   "cell_type": "code",
   "execution_count": 9,
   "metadata": {
    "ExecuteTime": {
     "end_time": "2019-01-11T11:54:11.423852Z",
     "start_time": "2019-01-11T11:54:11.402022Z"
    }
   },
   "outputs": [
    {
     "data": {
      "text/plain": [
       "A    False\n",
       "B     True\n",
       "C     True\n",
       "D    False\n",
       "dtype: bool"
      ]
     },
     "execution_count": 9,
     "metadata": {},
     "output_type": "execute_result"
    }
   ],
   "source": [
    "df.duplicated()"
   ]
  },
  {
   "cell_type": "code",
   "execution_count": 35,
   "metadata": {
    "ExecuteTime": {
     "end_time": "2019-01-11T12:14:32.029109Z",
     "start_time": "2019-01-11T12:14:31.924643Z"
    }
   },
   "outputs": [
    {
     "data": {
      "text/html": [
       "<div>\n",
       "<style scoped>\n",
       "    .dataframe tbody tr th:only-of-type {\n",
       "        vertical-align: middle;\n",
       "    }\n",
       "\n",
       "    .dataframe tbody tr th {\n",
       "        vertical-align: top;\n",
       "    }\n",
       "\n",
       "    .dataframe thead th {\n",
       "        text-align: right;\n",
       "    }\n",
       "</style>\n",
       "<table border=\"1\" class=\"dataframe\">\n",
       "  <thead>\n",
       "    <tr style=\"text-align: right;\">\n",
       "      <th></th>\n",
       "      <th>a</th>\n",
       "      <th>b</th>\n",
       "      <th>c</th>\n",
       "      <th>d</th>\n",
       "      <th>e</th>\n",
       "    </tr>\n",
       "  </thead>\n",
       "  <tbody>\n",
       "    <tr>\n",
       "      <th>A</th>\n",
       "      <td>-0.05975</td>\n",
       "      <td>1.021281</td>\n",
       "      <td>0.37801</td>\n",
       "      <td>NaN</td>\n",
       "      <td>-2.675991</td>\n",
       "    </tr>\n",
       "    <tr>\n",
       "      <th>D</th>\n",
       "      <td>NaN</td>\n",
       "      <td>NaN</td>\n",
       "      <td>NaN</td>\n",
       "      <td>NaN</td>\n",
       "      <td>NaN</td>\n",
       "    </tr>\n",
       "  </tbody>\n",
       "</table>\n",
       "</div>"
      ],
      "text/plain": [
       "         a         b        c   d         e\n",
       "A -0.05975  1.021281  0.37801 NaN -2.675991\n",
       "D      NaN       NaN      NaN NaN       NaN"
      ]
     },
     "metadata": {},
     "output_type": "display_data"
    },
    {
     "data": {
      "text/html": [
       "<div>\n",
       "<style scoped>\n",
       "    .dataframe tbody tr th:only-of-type {\n",
       "        vertical-align: middle;\n",
       "    }\n",
       "\n",
       "    .dataframe tbody tr th {\n",
       "        vertical-align: top;\n",
       "    }\n",
       "\n",
       "    .dataframe thead th {\n",
       "        text-align: right;\n",
       "    }\n",
       "</style>\n",
       "<table border=\"1\" class=\"dataframe\">\n",
       "  <thead>\n",
       "    <tr style=\"text-align: right;\">\n",
       "      <th></th>\n",
       "      <th>a</th>\n",
       "      <th>b</th>\n",
       "      <th>c</th>\n",
       "      <th>d</th>\n",
       "      <th>e</th>\n",
       "    </tr>\n",
       "  </thead>\n",
       "  <tbody>\n",
       "    <tr>\n",
       "      <th>C</th>\n",
       "      <td>-0.05975</td>\n",
       "      <td>1.021281</td>\n",
       "      <td>0.37801</td>\n",
       "      <td>NaN</td>\n",
       "      <td>-2.675991</td>\n",
       "    </tr>\n",
       "    <tr>\n",
       "      <th>D</th>\n",
       "      <td>NaN</td>\n",
       "      <td>NaN</td>\n",
       "      <td>NaN</td>\n",
       "      <td>NaN</td>\n",
       "      <td>NaN</td>\n",
       "    </tr>\n",
       "  </tbody>\n",
       "</table>\n",
       "</div>"
      ],
      "text/plain": [
       "         a         b        c   d         e\n",
       "C -0.05975  1.021281  0.37801 NaN -2.675991\n",
       "D      NaN       NaN      NaN NaN       NaN"
      ]
     },
     "metadata": {},
     "output_type": "display_data"
    }
   ],
   "source": [
    "display(df.drop_duplicates(), df.drop_duplicates(keep='last'))"
   ]
  },
  {
   "cell_type": "markdown",
   "metadata": {},
   "source": [
    "## 5.3 Handling duplicate index labels and column names\n",
    "\n",
    "It is quite often to have duplicate index label or column names.\n",
    "\n",
    "We can:\n",
    "\n",
    "1. reset / replace the index labels or column names:\n",
    "2. remove duplicate index lables or column names."
   ]
  },
  {
   "cell_type": "code",
   "execution_count": 37,
   "metadata": {
    "ExecuteTime": {
     "end_time": "2019-01-11T12:16:16.734905Z",
     "start_time": "2019-01-11T12:16:16.721981Z"
    }
   },
   "outputs": [
    {
     "data": {
      "text/plain": [
       "Index(['A', 'B', 'C', 'D', 'A', 'B', 'C', 'D'], dtype='object')"
      ]
     },
     "execution_count": 37,
     "metadata": {},
     "output_type": "execute_result"
    }
   ],
   "source": [
    "df1 = pd.concat([df, df])\n",
    "df1.index"
   ]
  },
  {
   "cell_type": "code",
   "execution_count": 12,
   "metadata": {
    "ExecuteTime": {
     "end_time": "2019-01-11T11:54:11.549332Z",
     "start_time": "2019-01-11T11:54:11.503020Z"
    }
   },
   "outputs": [
    {
     "data": {
      "text/plain": [
       "RangeIndex(start=0, stop=8, step=1)"
      ]
     },
     "execution_count": 12,
     "metadata": {},
     "output_type": "execute_result"
    }
   ],
   "source": [
    "df1.reset_index(inplace=True)\n",
    "df1.index"
   ]
  },
  {
   "cell_type": "code",
   "execution_count": 13,
   "metadata": {
    "ExecuteTime": {
     "end_time": "2019-01-11T11:54:11.564894Z",
     "start_time": "2019-01-11T11:54:11.554625Z"
    }
   },
   "outputs": [
    {
     "data": {
      "text/plain": [
       "Index(['a', 'b', 'c', 'd', 'a', 'b', 'c', 'd'], dtype='object')"
      ]
     },
     "execution_count": 13,
     "metadata": {},
     "output_type": "execute_result"
    }
   ],
   "source": [
    "df2 = pd.concat([df, df], axis=1)\n",
    "df2.columns"
   ]
  },
  {
   "cell_type": "code",
   "execution_count": 14,
   "metadata": {
    "ExecuteTime": {
     "end_time": "2019-01-11T11:54:11.592601Z",
     "start_time": "2019-01-11T11:54:11.570307Z"
    }
   },
   "outputs": [
    {
     "data": {
      "text/html": [
       "<div>\n",
       "<style scoped>\n",
       "    .dataframe tbody tr th:only-of-type {\n",
       "        vertical-align: middle;\n",
       "    }\n",
       "\n",
       "    .dataframe tbody tr th {\n",
       "        vertical-align: top;\n",
       "    }\n",
       "\n",
       "    .dataframe thead th {\n",
       "        text-align: right;\n",
       "    }\n",
       "</style>\n",
       "<table border=\"1\" class=\"dataframe\">\n",
       "  <thead>\n",
       "    <tr style=\"text-align: right;\">\n",
       "      <th></th>\n",
       "      <th>a</th>\n",
       "      <th>b</th>\n",
       "      <th>c</th>\n",
       "      <th>d</th>\n",
       "    </tr>\n",
       "  </thead>\n",
       "  <tbody>\n",
       "    <tr>\n",
       "      <th>A</th>\n",
       "      <td>-0.05975</td>\n",
       "      <td>1.021281</td>\n",
       "      <td>0.37801</td>\n",
       "      <td>NaN</td>\n",
       "    </tr>\n",
       "    <tr>\n",
       "      <th>B</th>\n",
       "      <td>-0.05975</td>\n",
       "      <td>1.021281</td>\n",
       "      <td>0.37801</td>\n",
       "      <td>NaN</td>\n",
       "    </tr>\n",
       "    <tr>\n",
       "      <th>C</th>\n",
       "      <td>-0.05975</td>\n",
       "      <td>1.021281</td>\n",
       "      <td>0.37801</td>\n",
       "      <td>NaN</td>\n",
       "    </tr>\n",
       "    <tr>\n",
       "      <th>D</th>\n",
       "      <td>NaN</td>\n",
       "      <td>NaN</td>\n",
       "      <td>NaN</td>\n",
       "      <td>NaN</td>\n",
       "    </tr>\n",
       "  </tbody>\n",
       "</table>\n",
       "</div>"
      ],
      "text/plain": [
       "         a         b        c   d\n",
       "A -0.05975  1.021281  0.37801 NaN\n",
       "B -0.05975  1.021281  0.37801 NaN\n",
       "C -0.05975  1.021281  0.37801 NaN\n",
       "D      NaN       NaN      NaN NaN"
      ]
     },
     "execution_count": 14,
     "metadata": {},
     "output_type": "execute_result"
    }
   ],
   "source": [
    "df2 = df2.loc[:,~df2.columns.duplicated()]\n",
    "df2"
   ]
  },
  {
   "cell_type": "markdown",
   "metadata": {},
   "source": [
    "## 5.4 Filtering data\n",
    "\n",
    "We mentioned boolean selction in pandas 03, which is one of the ways to filter data in pandas. Moreover, there are two others ways to do this task.\n",
    "\n",
    "1. `pandas.DataFrame.query`: Query the columns of a frame with a boolean expression.\n",
    "2. `pandas.DataFrame.eval`: Evaluate a string describing operations on DataFrame columns.\n",
    "\n",
    "The difference in computation time between the traditional methods and the eval/query method is usually not significant\n",
    "\n",
    "1. the boolean method is faster for smaller arrays!\n",
    "2. the benefit of eval/query is mainly in the saved memory, and the sometimes cleaner syntax they offer."
   ]
  },
  {
   "cell_type": "code",
   "execution_count": 15,
   "metadata": {
    "ExecuteTime": {
     "end_time": "2019-01-11T11:54:11.638441Z",
     "start_time": "2019-01-11T11:54:11.595974Z"
    }
   },
   "outputs": [
    {
     "data": {
      "text/html": [
       "<div>\n",
       "<style scoped>\n",
       "    .dataframe tbody tr th:only-of-type {\n",
       "        vertical-align: middle;\n",
       "    }\n",
       "\n",
       "    .dataframe tbody tr th {\n",
       "        vertical-align: top;\n",
       "    }\n",
       "\n",
       "    .dataframe thead th {\n",
       "        text-align: right;\n",
       "    }\n",
       "</style>\n",
       "<table border=\"1\" class=\"dataframe\">\n",
       "  <thead>\n",
       "    <tr style=\"text-align: right;\">\n",
       "      <th></th>\n",
       "      <th>Date</th>\n",
       "      <th>Open</th>\n",
       "      <th>High</th>\n",
       "      <th>Low</th>\n",
       "      <th>Close</th>\n",
       "      <th>Adj Close</th>\n",
       "      <th>Volume</th>\n",
       "    </tr>\n",
       "  </thead>\n",
       "  <tbody>\n",
       "    <tr>\n",
       "      <th>0</th>\n",
       "      <td>2018-11-23</td>\n",
       "      <td>6919.520020</td>\n",
       "      <td>6987.890137</td>\n",
       "      <td>6919.160156</td>\n",
       "      <td>6938.979980</td>\n",
       "      <td>6938.979980</td>\n",
       "      <td>958950000</td>\n",
       "    </tr>\n",
       "    <tr>\n",
       "      <th>10</th>\n",
       "      <td>2018-12-10</td>\n",
       "      <td>6959.629883</td>\n",
       "      <td>7047.620117</td>\n",
       "      <td>6878.990234</td>\n",
       "      <td>7020.520020</td>\n",
       "      <td>7020.520020</td>\n",
       "      <td>2367560000</td>\n",
       "    </tr>\n",
       "    <tr>\n",
       "      <th>14</th>\n",
       "      <td>2018-12-14</td>\n",
       "      <td>6986.370117</td>\n",
       "      <td>7027.169922</td>\n",
       "      <td>6898.990234</td>\n",
       "      <td>6910.660156</td>\n",
       "      <td>6910.660156</td>\n",
       "      <td>2200510000</td>\n",
       "    </tr>\n",
       "    <tr>\n",
       "      <th>15</th>\n",
       "      <td>2018-12-17</td>\n",
       "      <td>6886.459961</td>\n",
       "      <td>6931.810059</td>\n",
       "      <td>6710.009766</td>\n",
       "      <td>6753.729980</td>\n",
       "      <td>6753.729980</td>\n",
       "      <td>2665240000</td>\n",
       "    </tr>\n",
       "    <tr>\n",
       "      <th>16</th>\n",
       "      <td>2018-12-18</td>\n",
       "      <td>6809.819824</td>\n",
       "      <td>6847.270020</td>\n",
       "      <td>6733.709961</td>\n",
       "      <td>6783.910156</td>\n",
       "      <td>6783.910156</td>\n",
       "      <td>2595400000</td>\n",
       "    </tr>\n",
       "    <tr>\n",
       "      <th>17</th>\n",
       "      <td>2018-12-19</td>\n",
       "      <td>6777.589844</td>\n",
       "      <td>6868.859863</td>\n",
       "      <td>6586.500000</td>\n",
       "      <td>6636.830078</td>\n",
       "      <td>6636.830078</td>\n",
       "      <td>2899950000</td>\n",
       "    </tr>\n",
       "    <tr>\n",
       "      <th>18</th>\n",
       "      <td>2018-12-20</td>\n",
       "      <td>6607.759766</td>\n",
       "      <td>6666.200195</td>\n",
       "      <td>6447.910156</td>\n",
       "      <td>6528.410156</td>\n",
       "      <td>6528.410156</td>\n",
       "      <td>3258090000</td>\n",
       "    </tr>\n",
       "    <tr>\n",
       "      <th>19</th>\n",
       "      <td>2018-12-21</td>\n",
       "      <td>6573.490234</td>\n",
       "      <td>6586.680176</td>\n",
       "      <td>6304.629883</td>\n",
       "      <td>6333.000000</td>\n",
       "      <td>6333.000000</td>\n",
       "      <td>4534120000</td>\n",
       "    </tr>\n",
       "  </tbody>\n",
       "</table>\n",
       "</div>"
      ],
      "text/plain": [
       "          Date         Open         High          Low        Close  \\\n",
       "0   2018-11-23  6919.520020  6987.890137  6919.160156  6938.979980   \n",
       "10  2018-12-10  6959.629883  7047.620117  6878.990234  7020.520020   \n",
       "14  2018-12-14  6986.370117  7027.169922  6898.990234  6910.660156   \n",
       "15  2018-12-17  6886.459961  6931.810059  6710.009766  6753.729980   \n",
       "16  2018-12-18  6809.819824  6847.270020  6733.709961  6783.910156   \n",
       "17  2018-12-19  6777.589844  6868.859863  6586.500000  6636.830078   \n",
       "18  2018-12-20  6607.759766  6666.200195  6447.910156  6528.410156   \n",
       "19  2018-12-21  6573.490234  6586.680176  6304.629883  6333.000000   \n",
       "\n",
       "      Adj Close      Volume  \n",
       "0   6938.979980   958950000  \n",
       "10  7020.520020  2367560000  \n",
       "14  6910.660156  2200510000  \n",
       "15  6753.729980  2665240000  \n",
       "16  6783.910156  2595400000  \n",
       "17  6636.830078  2899950000  \n",
       "18  6528.410156  3258090000  \n",
       "19  6333.000000  4534120000  "
      ]
     },
     "execution_count": 15,
     "metadata": {},
     "output_type": "execute_result"
    }
   ],
   "source": [
    "nasdaq = pd.read_csv('../data/nasdaq.csv')\n",
    "nasdaq[(nasdaq['Open'] > 6500) & (nasdaq['Open'] < 7000)]\n",
    "# nasdaq[6500 < nasdaq['Open'] < 7000]"
   ]
  },
  {
   "cell_type": "code",
   "execution_count": 39,
   "metadata": {
    "ExecuteTime": {
     "end_time": "2019-01-11T12:21:44.279549Z",
     "start_time": "2019-01-11T12:21:44.232124Z"
    }
   },
   "outputs": [
    {
     "data": {
      "text/plain": [
       "False"
      ]
     },
     "execution_count": 39,
     "metadata": {},
     "output_type": "execute_result"
    }
   ],
   "source": [
    "nn = nasdaq.query('6000 < Open < 7000')"
   ]
  },
  {
   "cell_type": "code",
   "execution_count": 17,
   "metadata": {
    "ExecuteTime": {
     "end_time": "2019-01-11T11:54:11.715351Z",
     "start_time": "2019-01-11T11:54:11.680083Z"
    },
    "scrolled": true
   },
   "outputs": [
    {
     "data": {
      "text/plain": [
       "0      True\n",
       "1     False\n",
       "2     False\n",
       "3     False\n",
       "4     False\n",
       "5     False\n",
       "6     False\n",
       "7     False\n",
       "8     False\n",
       "9     False\n",
       "10     True\n",
       "11    False\n",
       "12    False\n",
       "13    False\n",
       "14     True\n",
       "15     True\n",
       "16     True\n",
       "17     True\n",
       "18     True\n",
       "19     True\n",
       "Name: Open, dtype: bool"
      ]
     },
     "metadata": {},
     "output_type": "display_data"
    },
    {
     "data": {
      "text/html": [
       "<div>\n",
       "<style scoped>\n",
       "    .dataframe tbody tr th:only-of-type {\n",
       "        vertical-align: middle;\n",
       "    }\n",
       "\n",
       "    .dataframe tbody tr th {\n",
       "        vertical-align: top;\n",
       "    }\n",
       "\n",
       "    .dataframe thead th {\n",
       "        text-align: right;\n",
       "    }\n",
       "</style>\n",
       "<table border=\"1\" class=\"dataframe\">\n",
       "  <thead>\n",
       "    <tr style=\"text-align: right;\">\n",
       "      <th></th>\n",
       "      <th>Date</th>\n",
       "      <th>Open</th>\n",
       "      <th>High</th>\n",
       "      <th>Low</th>\n",
       "      <th>Close</th>\n",
       "      <th>Adj Close</th>\n",
       "      <th>Volume</th>\n",
       "    </tr>\n",
       "  </thead>\n",
       "  <tbody>\n",
       "    <tr>\n",
       "      <th>0</th>\n",
       "      <td>2018-11-23</td>\n",
       "      <td>6919.520020</td>\n",
       "      <td>6987.890137</td>\n",
       "      <td>6919.160156</td>\n",
       "      <td>6938.979980</td>\n",
       "      <td>6938.979980</td>\n",
       "      <td>958950000</td>\n",
       "    </tr>\n",
       "    <tr>\n",
       "      <th>10</th>\n",
       "      <td>2018-12-10</td>\n",
       "      <td>6959.629883</td>\n",
       "      <td>7047.620117</td>\n",
       "      <td>6878.990234</td>\n",
       "      <td>7020.520020</td>\n",
       "      <td>7020.520020</td>\n",
       "      <td>2367560000</td>\n",
       "    </tr>\n",
       "    <tr>\n",
       "      <th>14</th>\n",
       "      <td>2018-12-14</td>\n",
       "      <td>6986.370117</td>\n",
       "      <td>7027.169922</td>\n",
       "      <td>6898.990234</td>\n",
       "      <td>6910.660156</td>\n",
       "      <td>6910.660156</td>\n",
       "      <td>2200510000</td>\n",
       "    </tr>\n",
       "    <tr>\n",
       "      <th>15</th>\n",
       "      <td>2018-12-17</td>\n",
       "      <td>6886.459961</td>\n",
       "      <td>6931.810059</td>\n",
       "      <td>6710.009766</td>\n",
       "      <td>6753.729980</td>\n",
       "      <td>6753.729980</td>\n",
       "      <td>2665240000</td>\n",
       "    </tr>\n",
       "    <tr>\n",
       "      <th>16</th>\n",
       "      <td>2018-12-18</td>\n",
       "      <td>6809.819824</td>\n",
       "      <td>6847.270020</td>\n",
       "      <td>6733.709961</td>\n",
       "      <td>6783.910156</td>\n",
       "      <td>6783.910156</td>\n",
       "      <td>2595400000</td>\n",
       "    </tr>\n",
       "    <tr>\n",
       "      <th>17</th>\n",
       "      <td>2018-12-19</td>\n",
       "      <td>6777.589844</td>\n",
       "      <td>6868.859863</td>\n",
       "      <td>6586.500000</td>\n",
       "      <td>6636.830078</td>\n",
       "      <td>6636.830078</td>\n",
       "      <td>2899950000</td>\n",
       "    </tr>\n",
       "    <tr>\n",
       "      <th>18</th>\n",
       "      <td>2018-12-20</td>\n",
       "      <td>6607.759766</td>\n",
       "      <td>6666.200195</td>\n",
       "      <td>6447.910156</td>\n",
       "      <td>6528.410156</td>\n",
       "      <td>6528.410156</td>\n",
       "      <td>3258090000</td>\n",
       "    </tr>\n",
       "    <tr>\n",
       "      <th>19</th>\n",
       "      <td>2018-12-21</td>\n",
       "      <td>6573.490234</td>\n",
       "      <td>6586.680176</td>\n",
       "      <td>6304.629883</td>\n",
       "      <td>6333.000000</td>\n",
       "      <td>6333.000000</td>\n",
       "      <td>4534120000</td>\n",
       "    </tr>\n",
       "  </tbody>\n",
       "</table>\n",
       "</div>"
      ],
      "text/plain": [
       "          Date         Open         High          Low        Close  \\\n",
       "0   2018-11-23  6919.520020  6987.890137  6919.160156  6938.979980   \n",
       "10  2018-12-10  6959.629883  7047.620117  6878.990234  7020.520020   \n",
       "14  2018-12-14  6986.370117  7027.169922  6898.990234  6910.660156   \n",
       "15  2018-12-17  6886.459961  6931.810059  6710.009766  6753.729980   \n",
       "16  2018-12-18  6809.819824  6847.270020  6733.709961  6783.910156   \n",
       "17  2018-12-19  6777.589844  6868.859863  6586.500000  6636.830078   \n",
       "18  2018-12-20  6607.759766  6666.200195  6447.910156  6528.410156   \n",
       "19  2018-12-21  6573.490234  6586.680176  6304.629883  6333.000000   \n",
       "\n",
       "      Adj Close      Volume  \n",
       "0   6938.979980   958950000  \n",
       "10  7020.520020  2367560000  \n",
       "14  6910.660156  2200510000  \n",
       "15  6753.729980  2665240000  \n",
       "16  6783.910156  2595400000  \n",
       "17  6636.830078  2899950000  \n",
       "18  6528.410156  3258090000  \n",
       "19  6333.000000  4534120000  "
      ]
     },
     "metadata": {},
     "output_type": "display_data"
    }
   ],
   "source": [
    "eval_result = nasdaq.eval('6000 < Open < 7000')\n",
    "display(eval_result, nasdaq[eval_result])"
   ]
  },
  {
   "cell_type": "markdown",
   "metadata": {},
   "source": [
    "## 5.5 Transforming data\n",
    "\n",
    "1. map values to others;\n",
    "2. replace values;\n",
    "3. apply methods to transform;\n",
    "4. change the direction of the DataFrame;\n",
    "\n",
    "### 5.5.1 Mappling\n",
    "\n",
    "`pd.Series.map()`:\n",
    "\n",
    "1. It matches the values of the outer Series with the index labels of the inner Series.\n",
    "\n",
    "2. If the values and the index labels are not matched, it will return `NaN`."
   ]
  },
  {
   "cell_type": "code",
   "execution_count": 43,
   "metadata": {
    "ExecuteTime": {
     "end_time": "2019-01-11T12:29:41.753091Z",
     "start_time": "2019-01-11T12:29:41.691881Z"
    }
   },
   "outputs": [
    {
     "data": {
      "text/plain": [
       "one      2\n",
       "two      2\n",
       "three    3\n",
       "Three    3\n",
       "dtype: int64"
      ]
     },
     "metadata": {},
     "output_type": "display_data"
    },
    {
     "data": {
      "text/plain": [
       "one      b\n",
       "two      b\n",
       "three    c\n",
       "Three    c\n",
       "dtype: object"
      ]
     },
     "metadata": {},
     "output_type": "display_data"
    },
    {
     "data": {
      "text/plain": [
       "one      b\n",
       "two      b\n",
       "three    c\n",
       "Three    c\n",
       "dtype: object"
      ]
     },
     "metadata": {},
     "output_type": "display_data"
    }
   ],
   "source": [
    "x = pd.Series({\"one\": 2, \"two\": 2, \"three\": 3, 'Three': 3}) \n",
    "y = pd.Series({2: \"b\", 3: \"c\"})\n",
    "display(x, x.map(y), x.replace({2: 'b', 3: 'c'})"
   ]
  },
  {
   "cell_type": "code",
   "execution_count": 45,
   "metadata": {
    "ExecuteTime": {
     "end_time": "2019-01-11T12:30:39.618042Z",
     "start_time": "2019-01-11T12:30:34.635220Z"
    }
   },
   "outputs": [
    {
     "name": "stdout",
     "output_type": "stream",
     "text": [
      "peak memory: 76.71 MiB, increment: 0.00 MiB\n",
      "peak memory: 76.71 MiB, increment: 0.00 MiB\n",
      "peak memory: 76.71 MiB, increment: 0.00 MiB\n",
      "peak memory: 76.71 MiB, increment: 0.00 MiB\n",
      "peak memory: 76.72 MiB, increment: 0.00 MiB\n",
      "peak memory: 76.72 MiB, increment: 0.00 MiB\n",
      "peak memory: 76.72 MiB, increment: 0.00 MiB\n",
      "peak memory: 76.72 MiB, increment: 0.00 MiB\n",
      "306 ms ± 34 ms per loop (mean ± std. dev. of 7 runs, 1 loop each)\n",
      "peak memory: 76.73 MiB, increment: 0.00 MiB\n",
      "peak memory: 76.73 MiB, increment: 0.00 MiB\n",
      "peak memory: 76.73 MiB, increment: 0.00 MiB\n",
      "peak memory: 76.73 MiB, increment: 0.00 MiB\n",
      "peak memory: 76.73 MiB, increment: 0.00 MiB\n",
      "peak memory: 76.73 MiB, increment: 0.00 MiB\n",
      "peak memory: 76.73 MiB, increment: 0.00 MiB\n",
      "peak memory: 76.73 MiB, increment: 0.00 MiB\n",
      "300 ms ± 20.9 ms per loop (mean ± std. dev. of 7 runs, 1 loop each)\n"
     ]
    }
   ],
   "source": [
    "%timeit %memit x.map(y)\n",
    "%timeit %memit x.replace({2: 'b', 3: 'c'})"
   ]
  },
  {
   "cell_type": "code",
   "execution_count": 19,
   "metadata": {
    "ExecuteTime": {
     "end_time": "2019-01-11T11:54:11.770737Z",
     "start_time": "2019-01-11T11:54:11.755222Z"
    }
   },
   "outputs": [
    {
     "data": {
      "text/plain": [
       "one        a\n",
       "two        b\n",
       "three    NaN\n",
       "dtype: object"
      ]
     },
     "execution_count": 19,
     "metadata": {},
     "output_type": "execute_result"
    }
   ],
   "source": [
    "y = pd.Series({1: \"a\", 2: \"b\"})\n",
    "x.map(y)"
   ]
  },
  {
   "cell_type": "markdown",
   "metadata": {},
   "source": [
    "---\n",
    "\n",
    "### 5.5.2 Replacing\n",
    "\n",
    "`pd.Series.replace()`: \n",
    "\n",
    "1. replaces any value with another value;\n",
    "2. can replaces multiple items at once (with a list or a dict);"
   ]
  },
  {
   "cell_type": "code",
   "execution_count": 20,
   "metadata": {
    "ExecuteTime": {
     "end_time": "2019-01-11T11:54:11.789661Z",
     "start_time": "2019-01-11T11:54:11.776441Z"
    }
   },
   "outputs": [
    {
     "data": {
      "text/plain": [
       "one      1\n",
       "two      5\n",
       "three    3\n",
       "dtype: int64"
      ]
     },
     "execution_count": 20,
     "metadata": {},
     "output_type": "execute_result"
    }
   ],
   "source": [
    "x.replace(2, 5)"
   ]
  },
  {
   "cell_type": "code",
   "execution_count": 21,
   "metadata": {
    "ExecuteTime": {
     "end_time": "2019-01-11T11:54:11.807898Z",
     "start_time": "2019-01-11T11:54:11.793047Z"
    }
   },
   "outputs": [
    {
     "data": {
      "text/plain": [
       "one        I\n",
       "two       II\n",
       "three    III\n",
       "dtype: object"
      ]
     },
     "execution_count": 21,
     "metadata": {},
     "output_type": "execute_result"
    }
   ],
   "source": [
    "x.replace([1, 2, 3], ['I', 'II', 'III'])"
   ]
  },
  {
   "cell_type": "code",
   "execution_count": 46,
   "metadata": {
    "ExecuteTime": {
     "end_time": "2019-01-11T12:31:35.354281Z",
     "start_time": "2019-01-11T12:31:35.280573Z"
    }
   },
   "outputs": [
    {
     "data": {
      "text/plain": [
       "one      2\n",
       "two      2\n",
       "three    3\n",
       "Three    3\n",
       "dtype: int64"
      ]
     },
     "execution_count": 46,
     "metadata": {},
     "output_type": "execute_result"
    }
   ],
   "source": [
    "x.replace({1: 'I', 2: 'II', 3: 'III'})"
   ]
  },
  {
   "cell_type": "markdown",
   "metadata": {},
   "source": [
    "---\n",
    "\n",
    "### 5.5.3 Applying functions\n",
    "\n",
    "`pd.Series.apply()`:\n",
    "\n",
    "1. be careful to use this methods, as it may significantly reduce the perfoemence as the applied function is not a pandas function;\n",
    "2. it is common to take the result of an apply operation  as a new column of the DataFrame;\n",
    "3. always applies to the provided function to all of the items, or rows or columns;"
   ]
  },
  {
   "cell_type": "code",
   "execution_count": 23,
   "metadata": {
    "ExecuteTime": {
     "end_time": "2019-01-11T11:54:12.075860Z",
     "start_time": "2019-01-11T11:54:11.831607Z"
    }
   },
   "outputs": [
    {
     "name": "stdout",
     "output_type": "stream",
     "text": [
      "peak memory: 76.25 MiB, increment: 0.11 MiB\n",
      "CPU times: user 50.7 ms, sys: 36.9 ms, total: 87.6 ms\n",
      "Wall time: 231 ms\n"
     ]
    }
   ],
   "source": [
    "%time %memit x.apply(lambda i: i * 2)"
   ]
  },
  {
   "cell_type": "code",
   "execution_count": 24,
   "metadata": {
    "ExecuteTime": {
     "end_time": "2019-01-11T11:54:12.115116Z",
     "start_time": "2019-01-11T11:54:12.081538Z"
    }
   },
   "outputs": [
    {
     "data": {
      "text/html": [
       "<div>\n",
       "<style scoped>\n",
       "    .dataframe tbody tr th:only-of-type {\n",
       "        vertical-align: middle;\n",
       "    }\n",
       "\n",
       "    .dataframe tbody tr th {\n",
       "        vertical-align: top;\n",
       "    }\n",
       "\n",
       "    .dataframe thead th {\n",
       "        text-align: right;\n",
       "    }\n",
       "</style>\n",
       "<table border=\"1\" class=\"dataframe\">\n",
       "  <thead>\n",
       "    <tr style=\"text-align: right;\">\n",
       "      <th></th>\n",
       "      <th>a</th>\n",
       "      <th>b</th>\n",
       "      <th>c</th>\n",
       "      <th>d</th>\n",
       "      <th>e</th>\n",
       "    </tr>\n",
       "  </thead>\n",
       "  <tbody>\n",
       "    <tr>\n",
       "      <th>A</th>\n",
       "      <td>-0.05975</td>\n",
       "      <td>1.021281</td>\n",
       "      <td>0.37801</td>\n",
       "      <td>NaN</td>\n",
       "      <td>-2.675991</td>\n",
       "    </tr>\n",
       "    <tr>\n",
       "      <th>B</th>\n",
       "      <td>-0.05975</td>\n",
       "      <td>1.021281</td>\n",
       "      <td>0.37801</td>\n",
       "      <td>NaN</td>\n",
       "      <td>-2.675991</td>\n",
       "    </tr>\n",
       "    <tr>\n",
       "      <th>C</th>\n",
       "      <td>-0.05975</td>\n",
       "      <td>1.021281</td>\n",
       "      <td>0.37801</td>\n",
       "      <td>NaN</td>\n",
       "      <td>-2.675991</td>\n",
       "    </tr>\n",
       "    <tr>\n",
       "      <th>D</th>\n",
       "      <td>NaN</td>\n",
       "      <td>NaN</td>\n",
       "      <td>NaN</td>\n",
       "      <td>NaN</td>\n",
       "      <td>NaN</td>\n",
       "    </tr>\n",
       "  </tbody>\n",
       "</table>\n",
       "</div>"
      ],
      "text/plain": [
       "         a         b        c   d         e\n",
       "A -0.05975  1.021281  0.37801 NaN -2.675991\n",
       "B -0.05975  1.021281  0.37801 NaN -2.675991\n",
       "C -0.05975  1.021281  0.37801 NaN -2.675991\n",
       "D      NaN       NaN      NaN NaN       NaN"
      ]
     },
     "execution_count": 24,
     "metadata": {},
     "output_type": "execute_result"
    }
   ],
   "source": [
    "df['e'] = df['c'].apply(lambda i: i * 6 / 7 - 3)\n",
    "df"
   ]
  },
  {
   "cell_type": "markdown",
   "metadata": {},
   "source": [
    "### 5.5.4 Transpose a DataFame\n",
    "\n",
    "`pd.DataFrame.T` can transpose a DataFrame."
   ]
  },
  {
   "cell_type": "code",
   "execution_count": 25,
   "metadata": {
    "ExecuteTime": {
     "end_time": "2019-01-11T11:54:12.142079Z",
     "start_time": "2019-01-11T11:54:12.120471Z"
    }
   },
   "outputs": [
    {
     "data": {
      "text/html": [
       "<div>\n",
       "<style scoped>\n",
       "    .dataframe tbody tr th:only-of-type {\n",
       "        vertical-align: middle;\n",
       "    }\n",
       "\n",
       "    .dataframe tbody tr th {\n",
       "        vertical-align: top;\n",
       "    }\n",
       "\n",
       "    .dataframe thead th {\n",
       "        text-align: right;\n",
       "    }\n",
       "</style>\n",
       "<table border=\"1\" class=\"dataframe\">\n",
       "  <thead>\n",
       "    <tr style=\"text-align: right;\">\n",
       "      <th></th>\n",
       "      <th>a</th>\n",
       "      <th>b</th>\n",
       "      <th>c</th>\n",
       "      <th>d</th>\n",
       "      <th>e</th>\n",
       "    </tr>\n",
       "  </thead>\n",
       "  <tbody>\n",
       "    <tr>\n",
       "      <th>A</th>\n",
       "      <td>-0.05975</td>\n",
       "      <td>1.021281</td>\n",
       "      <td>0.37801</td>\n",
       "      <td>NaN</td>\n",
       "      <td>-2.675991</td>\n",
       "    </tr>\n",
       "    <tr>\n",
       "      <th>B</th>\n",
       "      <td>-0.05975</td>\n",
       "      <td>1.021281</td>\n",
       "      <td>0.37801</td>\n",
       "      <td>NaN</td>\n",
       "      <td>-2.675991</td>\n",
       "    </tr>\n",
       "    <tr>\n",
       "      <th>C</th>\n",
       "      <td>-0.05975</td>\n",
       "      <td>1.021281</td>\n",
       "      <td>0.37801</td>\n",
       "      <td>NaN</td>\n",
       "      <td>-2.675991</td>\n",
       "    </tr>\n",
       "    <tr>\n",
       "      <th>D</th>\n",
       "      <td>NaN</td>\n",
       "      <td>NaN</td>\n",
       "      <td>NaN</td>\n",
       "      <td>NaN</td>\n",
       "      <td>NaN</td>\n",
       "    </tr>\n",
       "  </tbody>\n",
       "</table>\n",
       "</div>"
      ],
      "text/plain": [
       "         a         b        c   d         e\n",
       "A -0.05975  1.021281  0.37801 NaN -2.675991\n",
       "B -0.05975  1.021281  0.37801 NaN -2.675991\n",
       "C -0.05975  1.021281  0.37801 NaN -2.675991\n",
       "D      NaN       NaN      NaN NaN       NaN"
      ]
     },
     "execution_count": 25,
     "metadata": {},
     "output_type": "execute_result"
    }
   ],
   "source": [
    "df"
   ]
  },
  {
   "cell_type": "code",
   "execution_count": 26,
   "metadata": {
    "ExecuteTime": {
     "end_time": "2019-01-11T11:54:12.178605Z",
     "start_time": "2019-01-11T11:54:12.146872Z"
    }
   },
   "outputs": [
    {
     "data": {
      "text/html": [
       "<div>\n",
       "<style scoped>\n",
       "    .dataframe tbody tr th:only-of-type {\n",
       "        vertical-align: middle;\n",
       "    }\n",
       "\n",
       "    .dataframe tbody tr th {\n",
       "        vertical-align: top;\n",
       "    }\n",
       "\n",
       "    .dataframe thead th {\n",
       "        text-align: right;\n",
       "    }\n",
       "</style>\n",
       "<table border=\"1\" class=\"dataframe\">\n",
       "  <thead>\n",
       "    <tr style=\"text-align: right;\">\n",
       "      <th></th>\n",
       "      <th>A</th>\n",
       "      <th>B</th>\n",
       "      <th>C</th>\n",
       "      <th>D</th>\n",
       "    </tr>\n",
       "  </thead>\n",
       "  <tbody>\n",
       "    <tr>\n",
       "      <th>a</th>\n",
       "      <td>-0.059750</td>\n",
       "      <td>-0.059750</td>\n",
       "      <td>-0.059750</td>\n",
       "      <td>NaN</td>\n",
       "    </tr>\n",
       "    <tr>\n",
       "      <th>b</th>\n",
       "      <td>1.021281</td>\n",
       "      <td>1.021281</td>\n",
       "      <td>1.021281</td>\n",
       "      <td>NaN</td>\n",
       "    </tr>\n",
       "    <tr>\n",
       "      <th>c</th>\n",
       "      <td>0.378010</td>\n",
       "      <td>0.378010</td>\n",
       "      <td>0.378010</td>\n",
       "      <td>NaN</td>\n",
       "    </tr>\n",
       "    <tr>\n",
       "      <th>d</th>\n",
       "      <td>NaN</td>\n",
       "      <td>NaN</td>\n",
       "      <td>NaN</td>\n",
       "      <td>NaN</td>\n",
       "    </tr>\n",
       "    <tr>\n",
       "      <th>e</th>\n",
       "      <td>-2.675991</td>\n",
       "      <td>-2.675991</td>\n",
       "      <td>-2.675991</td>\n",
       "      <td>NaN</td>\n",
       "    </tr>\n",
       "  </tbody>\n",
       "</table>\n",
       "</div>"
      ],
      "text/plain": [
       "          A         B         C   D\n",
       "a -0.059750 -0.059750 -0.059750 NaN\n",
       "b  1.021281  1.021281  1.021281 NaN\n",
       "c  0.378010  0.378010  0.378010 NaN\n",
       "d       NaN       NaN       NaN NaN\n",
       "e -2.675991 -2.675991 -2.675991 NaN"
      ]
     },
     "execution_count": 26,
     "metadata": {},
     "output_type": "execute_result"
    }
   ],
   "source": [
    "df.T"
   ]
  },
  {
   "cell_type": "code",
   "execution_count": 27,
   "metadata": {
    "ExecuteTime": {
     "end_time": "2019-01-11T11:54:12.244154Z",
     "start_time": "2019-01-11T11:54:12.187643Z"
    }
   },
   "outputs": [
    {
     "data": {
      "text/html": [
       "<div>\n",
       "<style scoped>\n",
       "    .dataframe tbody tr th:only-of-type {\n",
       "        vertical-align: middle;\n",
       "    }\n",
       "\n",
       "    .dataframe tbody tr th {\n",
       "        vertical-align: top;\n",
       "    }\n",
       "\n",
       "    .dataframe thead th {\n",
       "        text-align: right;\n",
       "    }\n",
       "</style>\n",
       "<table border=\"1\" class=\"dataframe\">\n",
       "  <thead>\n",
       "    <tr style=\"text-align: right;\">\n",
       "      <th></th>\n",
       "      <th>a</th>\n",
       "      <th>b</th>\n",
       "      <th>c</th>\n",
       "      <th>d</th>\n",
       "      <th>e</th>\n",
       "    </tr>\n",
       "  </thead>\n",
       "  <tbody>\n",
       "    <tr>\n",
       "      <th>A</th>\n",
       "      <td>-0.05975</td>\n",
       "      <td>1.021281</td>\n",
       "      <td>0.37801</td>\n",
       "      <td>NaN</td>\n",
       "      <td>-2.675991</td>\n",
       "    </tr>\n",
       "    <tr>\n",
       "      <th>B</th>\n",
       "      <td>-0.05975</td>\n",
       "      <td>1.021281</td>\n",
       "      <td>0.37801</td>\n",
       "      <td>NaN</td>\n",
       "      <td>-2.675991</td>\n",
       "    </tr>\n",
       "    <tr>\n",
       "      <th>C</th>\n",
       "      <td>-0.05975</td>\n",
       "      <td>1.021281</td>\n",
       "      <td>0.37801</td>\n",
       "      <td>NaN</td>\n",
       "      <td>-2.675991</td>\n",
       "    </tr>\n",
       "    <tr>\n",
       "      <th>D</th>\n",
       "      <td>NaN</td>\n",
       "      <td>NaN</td>\n",
       "      <td>NaN</td>\n",
       "      <td>NaN</td>\n",
       "      <td>NaN</td>\n",
       "    </tr>\n",
       "  </tbody>\n",
       "</table>\n",
       "</div>"
      ],
      "text/plain": [
       "         a         b        c   d         e\n",
       "A -0.05975  1.021281  0.37801 NaN -2.675991\n",
       "B -0.05975  1.021281  0.37801 NaN -2.675991\n",
       "C -0.05975  1.021281  0.37801 NaN -2.675991\n",
       "D      NaN       NaN      NaN NaN       NaN"
      ]
     },
     "execution_count": 27,
     "metadata": {},
     "output_type": "execute_result"
    }
   ],
   "source": [
    "df.T.T"
   ]
  },
  {
   "cell_type": "markdown",
   "metadata": {},
   "source": [
    "---\n",
    "\n",
    "## 5.6 Some Advanced Data Manipulations\n",
    "\n",
    "1. `pd.Series.isin`: Check whether values are contained in Series;\n",
    "2. `pd.Series.where`: For each element in the DataFrame, if cond is __True__ the element is used; otherwise the corresponding element from the DataFrame other is used;\n",
    "3. `pd.Series.mask`: Opposite to `pd.Series.where`"
   ]
  },
  {
   "cell_type": "code",
   "execution_count": 28,
   "metadata": {
    "ExecuteTime": {
     "end_time": "2019-01-11T11:54:12.262863Z",
     "start_time": "2019-01-11T11:54:12.249282Z"
    }
   },
   "outputs": [
    {
     "data": {
      "text/plain": [
       "0     False\n",
       "1     False\n",
       "2     False\n",
       "3     False\n",
       "4     False\n",
       "5     False\n",
       "6      True\n",
       "7      True\n",
       "8     False\n",
       "9     False\n",
       "10    False\n",
       "11    False\n",
       "12    False\n",
       "13    False\n",
       "14    False\n",
       "15    False\n",
       "16    False\n",
       "17    False\n",
       "18    False\n",
       "19    False\n",
       "Name: Date, dtype: bool"
      ]
     },
     "execution_count": 28,
     "metadata": {},
     "output_type": "execute_result"
    }
   ],
   "source": [
    "date_list = ['2018-12-03', '2018-12-04', '2018-12-05']\n",
    "nasdaq['Date'].isin(date_list)"
   ]
  },
  {
   "cell_type": "code",
   "execution_count": 29,
   "metadata": {
    "ExecuteTime": {
     "end_time": "2019-01-11T11:54:12.281253Z",
     "start_time": "2019-01-11T11:54:12.266453Z"
    }
   },
   "outputs": [
    {
     "data": {
      "text/plain": [
       "0             NaN\n",
       "1     7026.500000\n",
       "2     7041.229980\n",
       "3     7135.080078\n",
       "4     7267.370117\n",
       "5     7279.299805\n",
       "6     7486.129883\n",
       "7     7407.950195\n",
       "8     7017.049805\n",
       "9     7163.490234\n",
       "10            NaN\n",
       "11    7121.660156\n",
       "12    7127.000000\n",
       "13    7135.279785\n",
       "14            NaN\n",
       "15            NaN\n",
       "16            NaN\n",
       "17            NaN\n",
       "18            NaN\n",
       "19            NaN\n",
       "Name: Open, dtype: float64"
      ]
     },
     "execution_count": 29,
     "metadata": {},
     "output_type": "execute_result"
    }
   ],
   "source": [
    "nasdaq['Open'].where(nasdaq['Open'] > 7000)"
   ]
  },
  {
   "cell_type": "code",
   "execution_count": 30,
   "metadata": {
    "ExecuteTime": {
     "end_time": "2019-01-11T11:54:12.295197Z",
     "start_time": "2019-01-11T11:54:12.285143Z"
    }
   },
   "outputs": [
    {
     "data": {
      "text/plain": [
       "0     7000.000000\n",
       "1     7026.500000\n",
       "2     7041.229980\n",
       "3     7135.080078\n",
       "4     7267.370117\n",
       "5     7279.299805\n",
       "6     7486.129883\n",
       "7     7407.950195\n",
       "8     7017.049805\n",
       "9     7163.490234\n",
       "10    7000.000000\n",
       "11    7121.660156\n",
       "12    7127.000000\n",
       "13    7135.279785\n",
       "14    7000.000000\n",
       "15    7000.000000\n",
       "16    7000.000000\n",
       "17    7000.000000\n",
       "18    7000.000000\n",
       "19    7000.000000\n",
       "Name: Open, dtype: float64"
      ]
     },
     "execution_count": 30,
     "metadata": {},
     "output_type": "execute_result"
    }
   ],
   "source": [
    "nasdaq['Open'].where(nasdaq['Open'] > 7000, 7000)"
   ]
  },
  {
   "cell_type": "code",
   "execution_count": 31,
   "metadata": {
    "ExecuteTime": {
     "end_time": "2019-01-11T11:54:12.314589Z",
     "start_time": "2019-01-11T11:54:12.299754Z"
    }
   },
   "outputs": [
    {
     "data": {
      "text/plain": [
       "0     6919.520020\n",
       "1     7000.000000\n",
       "2     7000.000000\n",
       "3     7000.000000\n",
       "4     7000.000000\n",
       "5     7000.000000\n",
       "6     7000.000000\n",
       "7     7000.000000\n",
       "8     7000.000000\n",
       "9     7000.000000\n",
       "10    6959.629883\n",
       "11    7000.000000\n",
       "12    7000.000000\n",
       "13    7000.000000\n",
       "14    6986.370117\n",
       "15    6886.459961\n",
       "16    6809.819824\n",
       "17    6777.589844\n",
       "18    6607.759766\n",
       "19    6573.490234\n",
       "Name: Open, dtype: float64"
      ]
     },
     "execution_count": 31,
     "metadata": {},
     "output_type": "execute_result"
    }
   ],
   "source": [
    "nasdaq['Open'].mask(nasdaq['Open'] > 7000, 7000)"
   ]
  },
  {
   "cell_type": "markdown",
   "metadata": {},
   "source": [
    "---\n",
    "\n",
    "## 5.7 Exercise\n",
    "\n",
    "1. check the parameters in `pd.DataFrame.interpolate()`.\n",
    "2. check how to use `pd.Series.replace()` to replace values in a DataFrame.\n",
    "3. How can we remove duplicate index labels?\n",
    "4. How can we replace duplicate column names?\n",
    "5. If there is only one condition, how do we pass it to `pd.isin()`?"
   ]
  }
 ],
 "metadata": {
  "kernelspec": {
   "display_name": "Python 3",
   "language": "python",
   "name": "python3"
  },
  "language_info": {
   "codemirror_mode": {
    "name": "ipython",
    "version": 3
   },
   "file_extension": ".py",
   "mimetype": "text/x-python",
   "name": "python",
   "nbconvert_exporter": "python",
   "pygments_lexer": "ipython3",
   "version": "3.7.2"
  },
  "toc": {
   "base_numbering": 1,
   "nav_menu": {},
   "number_sections": false,
   "sideBar": true,
   "skip_h1_title": false,
   "title_cell": "Table of Contents",
   "title_sidebar": "Contents",
   "toc_cell": false,
   "toc_position": {
    "height": "calc(100% - 180px)",
    "left": "10px",
    "top": "150px",
    "width": "315.3333435058594px"
   },
   "toc_section_display": true,
   "toc_window_display": false
  }
 },
 "nbformat": 4,
 "nbformat_minor": 2
}
