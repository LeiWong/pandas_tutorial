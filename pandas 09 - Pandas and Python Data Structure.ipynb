{
 "cells": [
  {
   "cell_type": "markdown",
   "metadata": {},
   "source": [
    "# pandas 09 - Pandas and Python Data Structure\n",
    "\n",
    "by Nova@Douban\n",
    "\n",
    "The video record of this session is here: https://zoom.us/recording/share/-AyhhqiRKrw42R8xjEWHfXKDs-w2-IGS_NLh01a9q5SwIumekTziMw\n",
    "\n",
    "---\n",
    "\n",
    "## 9.1 Series and dict"
   ]
  },
  {
   "cell_type": "code",
   "execution_count": 2,
   "metadata": {
    "ExecuteTime": {
     "end_time": "2019-01-25T12:05:46.484050Z",
     "start_time": "2019-01-25T12:05:45.138406Z"
    }
   },
   "outputs": [
    {
     "data": {
      "text/plain": [
       "a    1\n",
       "b    2\n",
       "c    9\n",
       "dtype: int64"
      ]
     },
     "metadata": {},
     "output_type": "display_data"
    },
    {
     "data": {
      "text/plain": [
       "{'a': 1, 'b': 2, 'c': 9}"
      ]
     },
     "metadata": {},
     "output_type": "display_data"
    }
   ],
   "source": [
    "# Conversion between a pandas Series and a dict\n",
    "import pandas as pd\n",
    "import numpy as np\n",
    "\n",
    "dd = {'a': 1, 'b': 2, 'c': 9}\n",
    "series_dd = pd.Series(dd)\n",
    "display(series_dd, series_dd.to_dict())"
   ]
  },
  {
   "cell_type": "markdown",
   "metadata": {},
   "source": [
    "## 9.2 Series and array"
   ]
  },
  {
   "cell_type": "code",
   "execution_count": 2,
   "metadata": {
    "ExecuteTime": {
     "end_time": "2019-01-22T09:21:37.535074Z",
     "start_time": "2019-01-22T09:21:37.287231Z"
    }
   },
   "outputs": [
    {
     "data": {
      "text/plain": [
       "0   -2.845180\n",
       "1   -2.469059\n",
       "2   -0.156874\n",
       "3   -0.290911\n",
       "4    0.876318\n",
       "5   -0.104034\n",
       "dtype: float64"
      ]
     },
     "metadata": {},
     "output_type": "display_data"
    },
    {
     "data": {
      "text/plain": [
       "a   -2.845180\n",
       "a   -2.469059\n",
       "a   -0.156874\n",
       "a   -0.290911\n",
       "a    0.876318\n",
       "a   -0.104034\n",
       "dtype: float64"
      ]
     },
     "metadata": {},
     "output_type": "display_data"
    },
    {
     "data": {
      "text/plain": [
       "<xarray.DataArray (index: 6)>\n",
       "array([-2.84518 , -2.469059, -0.156874, -0.290911,  0.876318, -0.104034])\n",
       "Coordinates:\n",
       "  * index    (index) object 'a' 'a' 'a' 'a' 'a' 'a'"
      ]
     },
     "metadata": {},
     "output_type": "display_data"
    }
   ],
   "source": [
    "# The default index is int\n",
    "aray = np.random.randn(6)\n",
    "srs = pd.Series(aray)\n",
    "display(srs)\n",
    "\n",
    "# We can set repeated non-int labels to index\n",
    "ind = ['a'] * 6\n",
    "srs.index = ind\n",
    "display(srs, srs.to_xarray())"
   ]
  },
  {
   "cell_type": "markdown",
   "metadata": {},
   "source": [
    "## 9.3 Series and list\n",
    "\n",
    "It is `pd.Series.tolist()`, not `pd.Series.to_list()`."
   ]
  },
  {
   "cell_type": "code",
   "execution_count": 3,
   "metadata": {
    "ExecuteTime": {
     "end_time": "2019-01-22T09:21:37.577756Z",
     "start_time": "2019-01-22T09:21:37.549862Z"
    }
   },
   "outputs": [
    {
     "data": {
      "text/plain": [
       "0    0.725138\n",
       "1    0.543878\n",
       "2    0.226283\n",
       "3    1.267045\n",
       "4   -0.495132\n",
       "5   -0.192349\n",
       "dtype: float64"
      ]
     },
     "metadata": {},
     "output_type": "display_data"
    },
    {
     "data": {
      "text/plain": [
       "[0.725138, 0.543878, 0.226283, 1.267045, -0.495132, -0.192349]"
      ]
     },
     "metadata": {},
     "output_type": "display_data"
    }
   ],
   "source": [
    "lst = [0.725138,  0.543878,  0.226283,  1.267045, -0.495132, -0.192349]\n",
    "srs = pd.Series(lst)\n",
    "lst = srs.tolist()\n",
    "\n",
    "display(srs, lst)"
   ]
  },
  {
   "cell_type": "markdown",
   "metadata": {},
   "source": [
    "## 9.4 DataFrame and dict"
   ]
  },
  {
   "cell_type": "code",
   "execution_count": 3,
   "metadata": {
    "ExecuteTime": {
     "end_time": "2019-01-25T12:05:51.701915Z",
     "start_time": "2019-01-25T12:05:51.628849Z"
    }
   },
   "outputs": [
    {
     "data": {
      "text/html": [
       "<div>\n",
       "<style scoped>\n",
       "    .dataframe tbody tr th:only-of-type {\n",
       "        vertical-align: middle;\n",
       "    }\n",
       "\n",
       "    .dataframe tbody tr th {\n",
       "        vertical-align: top;\n",
       "    }\n",
       "\n",
       "    .dataframe thead th {\n",
       "        text-align: right;\n",
       "    }\n",
       "</style>\n",
       "<table border=\"1\" class=\"dataframe\">\n",
       "  <thead>\n",
       "    <tr style=\"text-align: right;\">\n",
       "      <th></th>\n",
       "      <th>a</th>\n",
       "      <th>b</th>\n",
       "      <th>c</th>\n",
       "    </tr>\n",
       "  </thead>\n",
       "  <tbody>\n",
       "    <tr>\n",
       "      <th>0</th>\n",
       "      <td>1</td>\n",
       "      <td>82</td>\n",
       "      <td>9</td>\n",
       "    </tr>\n",
       "    <tr>\n",
       "      <th>1</th>\n",
       "      <td>8</td>\n",
       "      <td>9</td>\n",
       "      <td>6</td>\n",
       "    </tr>\n",
       "    <tr>\n",
       "      <th>2</th>\n",
       "      <td>0</td>\n",
       "      <td>2</td>\n",
       "      <td>3</td>\n",
       "    </tr>\n",
       "  </tbody>\n",
       "</table>\n",
       "</div>"
      ],
      "text/plain": [
       "   a   b  c\n",
       "0  1  82  9\n",
       "1  8   9  6\n",
       "2  0   2  3"
      ]
     },
     "metadata": {},
     "output_type": "display_data"
    },
    {
     "data": {
      "text/plain": [
       "{'a': {0: 1, 1: 8, 2: 0}, 'b': {0: 82, 1: 9, 2: 2}, 'c': {0: 9, 1: 6, 2: 3}}"
      ]
     },
     "metadata": {},
     "output_type": "display_data"
    }
   ],
   "source": [
    "dd = {'a': [1, 8, 0], 'b': [82, 9, 2], 'c': [9, 6, 3]}\n",
    "df_dd = pd.DataFrame.from_dict(dd)\n",
    "display(df_dd, df_dd.to_dict())"
   ]
  },
  {
   "cell_type": "code",
   "execution_count": null,
   "metadata": {},
   "outputs": [],
   "source": []
  }
 ],
 "metadata": {
  "kernelspec": {
   "display_name": "Python 3",
   "language": "python",
   "name": "python3"
  },
  "language_info": {
   "codemirror_mode": {
    "name": "ipython",
    "version": 3
   },
   "file_extension": ".py",
   "mimetype": "text/x-python",
   "name": "python",
   "nbconvert_exporter": "python",
   "pygments_lexer": "ipython3",
   "version": "3.7.2"
  },
  "toc": {
   "base_numbering": 1,
   "nav_menu": {},
   "number_sections": false,
   "sideBar": true,
   "skip_h1_title": false,
   "title_cell": "Table of Contents",
   "title_sidebar": "Contents",
   "toc_cell": false,
   "toc_position": {},
   "toc_section_display": true,
   "toc_window_display": false
  }
 },
 "nbformat": 4,
 "nbformat_minor": 2
}
