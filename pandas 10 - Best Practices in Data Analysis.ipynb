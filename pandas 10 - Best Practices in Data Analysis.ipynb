{
 "cells": [
  {
   "cell_type": "markdown",
   "metadata": {},
   "source": [
    "# pandas 10 - Best Practices in Data Analysis\n",
    "\n",
    "by Nova@Douban\n",
    "\n",
    "The video record of this session is here: https://zoom.us/recording/share/-AyhhqiRKrw42R8xjEWHfXKDs-w2-IGS_NLh01a9q5SwIumekTziMw\n",
    "\n",
    "\n",
    "---\n",
    "\n",
    "This sharing focuses on some best practices I gained during the past years working as a NLP engineer and data scientist.\n",
    "\n",
    "## 10.1 Version control\n",
    "\n",
    "Version conttol is an important practice in software development, and we shall follow this best practice to reduce errors, such as removing code by mistake.\n",
    "\n",
    "### 10.1.1 Git\n",
    "\n",
    "Git is one of the most popular version control tools, and we can find main version control platforms supporting this protocal. We can choose from Github, Gitlab or Bitbucket.\n",
    "\n",
    "Git has many workfolows to follow, we can start with gitflow, which is simple to follow. \n",
    "\n",
    "<img src=\"../image/gitflow.svg\">\n",
    "\n",
    "### 10.1.2 Git LFS\n",
    "\n",
    "Git is suitable to store code, but not for big files. Therefore, another version control protocal for big file emerged -- Git LFS. We can use it to store our datasets.\n",
    "\n",
    "### 10.1.3 Version control your code, not your data\n",
    "\n",
    "Some of us may used to store temporary / intermediate datasets on harddisk. However, we do not recommend this way; instead, we recommend version contoal your code, and commit as frequent as possible.\n",
    "\n"
   ]
  },
  {
   "cell_type": "markdown",
   "metadata": {},
   "source": [
    "---\n",
    "\n",
    "## 10.2 Folder structure\n",
    "\n",
    "1. If our code folder is managed by git, it can be an individual folder only for code;\n",
    "2. At the same level, we can have another two folder for raw data and and results. Therefore, we can user git LFS to manage these two folders.\n",
    "3. We can use virtualenv to control the package environment.\n",
    "\n",
    "\n",
    "<img src=\"../image/folder.png\">"
   ]
  },
  {
   "cell_type": "markdown",
   "metadata": {},
   "source": [
    "---\n",
    "\n",
    "## 10.3 Jupyter Notebook and IPython\n",
    "\n",
    "### 10.3.1 Jupyter Notebook\n",
    "\n",
    "1. Jupyter Notebook is a convinient tool for interacting data analysis.\n",
    "2. We can put code, document, visualisation in a single Jupyter notebook.\n",
    "3. We can experiment / draft / benchmark in Jupyter notebook.\n",
    "4. We can export to markdown / python code / PDF, etc.\n",
    "5. We can install extensions to make Jupyter Notebook easier to use. See [this](https://towardsdatascience.com/jupyter-notebook-extensions-517fa69d2231?gi=e865fc4d7033).\n",
    "6. All outlines of this course are created with Jupyter Notebook.\n",
    "\n",
    "### 10.3.2 IPython\n",
    "\n",
    "1. IPython is the backend of Jupyter Notebook.\n",
    "2. Jupyter Notebook needs browser support. For example, if we need fix on a server, and we only can access the server via SSH, then IPython is the only choice.\n",
    "3. If you are familiar with Jupyter Notebook, then IPython is farily easy to use."
   ]
  },
  {
   "cell_type": "code",
   "execution_count": 10,
   "metadata": {
    "ExecuteTime": {
     "end_time": "2019-01-25T12:25:27.954978Z",
     "start_time": "2019-01-25T12:25:27.739130Z"
    }
   },
   "outputs": [
    {
     "name": "stdout",
     "output_type": "stream",
     "text": [
      "The autoreload extension is already loaded. To reload it, use:\n",
      "  %reload_ext autoreload\n"
     ]
    },
    {
     "data": {
      "text/html": [
       "<div>\n",
       "<style scoped>\n",
       "    .dataframe tbody tr th:only-of-type {\n",
       "        vertical-align: middle;\n",
       "    }\n",
       "\n",
       "    .dataframe tbody tr th {\n",
       "        vertical-align: top;\n",
       "    }\n",
       "\n",
       "    .dataframe thead th {\n",
       "        text-align: right;\n",
       "    }\n",
       "</style>\n",
       "<table border=\"1\" class=\"dataframe\">\n",
       "  <thead>\n",
       "    <tr style=\"text-align: right;\">\n",
       "      <th></th>\n",
       "      <th>Open</th>\n",
       "      <th>Close</th>\n",
       "    </tr>\n",
       "  </thead>\n",
       "  <tbody>\n",
       "    <tr>\n",
       "      <th>0</th>\n",
       "      <td>2498.770020</td>\n",
       "      <td>2485.739990</td>\n",
       "    </tr>\n",
       "    <tr>\n",
       "      <th>1</th>\n",
       "      <td>2498.939941</td>\n",
       "      <td>2506.850098</td>\n",
       "    </tr>\n",
       "    <tr>\n",
       "      <th>2</th>\n",
       "      <td>2476.959961</td>\n",
       "      <td>2510.030029</td>\n",
       "    </tr>\n",
       "    <tr>\n",
       "      <th>3</th>\n",
       "      <td>2491.919922</td>\n",
       "      <td>2447.889893</td>\n",
       "    </tr>\n",
       "    <tr>\n",
       "      <th>4</th>\n",
       "      <td>2474.330078</td>\n",
       "      <td>2531.939941</td>\n",
       "    </tr>\n",
       "  </tbody>\n",
       "</table>\n",
       "</div>"
      ],
      "text/plain": [
       "          Open        Close\n",
       "0  2498.770020  2485.739990\n",
       "1  2498.939941  2506.850098\n",
       "2  2476.959961  2510.030029\n",
       "3  2491.919922  2447.889893\n",
       "4  2474.330078  2531.939941"
      ]
     },
     "metadata": {},
     "output_type": "display_data"
    }
   ],
   "source": [
    "%load_ext autoreload\n",
    "%autoreload 2\n",
    "\n",
    "from test_script import fast_read\n",
    "\n",
    "data = fast_read('../data/gspc.csv', ['Open', 'Close'])\n",
    "display(data)"
   ]
  },
  {
   "cell_type": "markdown",
   "metadata": {},
   "source": [
    "---\n",
    "\n",
    "## 10.4 Data file format\n",
    "\n",
    "Please refer to pandas 04 - pandas IO.\n",
    "\n",
    "1. For data serializaion, we can choose from JSON / Parquet / Arrow / HDF5.\n",
    "2. When we use JSON, try using line-based JSON (JSONL) in case for possible stream processing.\n",
    "3. NEVER use Python pickle!"
   ]
  },
  {
   "cell_type": "markdown",
   "metadata": {},
   "source": [
    "---\n",
    "\n",
    "## 10.5 Script structure\n",
    "\n",
    "1. Collect all frequently-used snippets to a single script, and we can import these snippets to other scripts.\n",
    "2. Build core functions with those snippets, and put them into another script.\n",
    "3. Build a script of wrappers to call core functions."
   ]
  },
  {
   "cell_type": "markdown",
   "metadata": {},
   "source": [
    "---\n",
    "\n",
    "## 10.6 How to write functions?\n",
    "\n",
    "1. Make your functions readable and pure;\n",
    "2. Make the function name simple to remember;\n",
    "3. Always add docstring and comments;\n",
    "4. Always abstract your functions to be used repeatedly;\n",
    "5. Always refactor your code;\n",
    "6. If a problem is to difficult to solve, try writing pseudo code first. "
   ]
  },
  {
   "cell_type": "markdown",
   "metadata": {},
   "source": [
    "## 10.7 Exercises\n",
    "\n",
    "1. Read [Cookiecutter Data Science — Organize your Projects — Atom and Jupyter](https://medium.com/@rrfd/cookiecutter-data-science-organize-your-projects-atom-and-jupyter-2be7862f487e)\n",
    "2. Read [Gitflow introduction](https://www.atlassian.com/git/tutorials/comparing-workflows/gitflow-workflow) by Bitbucket"
   ]
  },
  {
   "cell_type": "markdown",
   "metadata": {},
   "source": []
  }
 ],
 "metadata": {
  "kernelspec": {
   "display_name": "Python 3",
   "language": "python",
   "name": "python3"
  },
  "language_info": {
   "codemirror_mode": {
    "name": "ipython",
    "version": 3
   },
   "file_extension": ".py",
   "mimetype": "text/x-python",
   "name": "python",
   "nbconvert_exporter": "python",
   "pygments_lexer": "ipython3",
   "version": "3.7.2"
  },
  "toc": {
   "base_numbering": 1,
   "nav_menu": {},
   "number_sections": false,
   "sideBar": true,
   "skip_h1_title": false,
   "title_cell": "Table of Contents",
   "title_sidebar": "Contents",
   "toc_cell": false,
   "toc_position": {},
   "toc_section_display": true,
   "toc_window_display": false
  }
 },
 "nbformat": 4,
 "nbformat_minor": 2
}
